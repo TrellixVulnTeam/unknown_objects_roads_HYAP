{
 "cells": [
  {
   "cell_type": "code",
   "execution_count": 1,
   "metadata": {},
   "outputs": [],
   "source": [
    "import numpy as np\n",
    "import open3d as o3d\n",
    "import pickle\n",
    "from os import path\n",
    "import matplotlib.pyplot as plt\n",
    "import time\n"
   ]
  },
  {
   "cell_type": "code",
   "execution_count": 2,
   "metadata": {},
   "outputs": [
    {
     "name": "stdout",
     "output_type": "stream",
     "text": [
      "Import spconv fail, no support for sparse convolution!\n",
      "iou3d cuda not built. You don't need this if you use circle_nms. Otherwise, refer to the advanced installation part to build this cuda extension\n"
     ]
    }
   ],
   "source": [
    "import sys \n",
    "from os import path\n",
    "sys.path.append(path.relpath('./'))\n",
    "sys.path.append(path.relpath('./CenterPoint'))\n",
    "from CenterPoint.tools.visual import center_to_corner_box3d, label2color, corners_to_lines"
   ]
  },
  {
   "cell_type": "code",
   "execution_count": 3,
   "metadata": {},
   "outputs": [],
   "source": [
    "with open(\"waymo/detection_pred.pkl\", 'rb') as f:\n",
    "    detection_preds_dict = pickle.load(f)"
   ]
  },
  {
   "cell_type": "code",
   "execution_count": 4,
   "metadata": {},
   "outputs": [],
   "source": [
    "#frame_name = \"39847154216997509_6440_000_6460_000-1568954807924818\"\n",
    "#frame_name = \"6503078254504013503_3440_000_3460_000-1557855930472609\"\n",
    "#frame_name = \"7240042450405902042_580_000_600_000-1559312894537967\""
   ]
  },
  {
   "cell_type": "code",
   "execution_count": 5,
   "metadata": {},
   "outputs": [],
   "source": [
    "#frame_name = \"39847154216997509_6440_000_6460_000-1568954821724274\"\n",
    "frame_name = \"10488772413132920574_680_000_700_000-1557276680370783\""
   ]
  },
  {
   "cell_type": "code",
   "execution_count": 6,
   "metadata": {},
   "outputs": [],
   "source": [
    "pred_detections = detection_preds_dict[frame_name]"
   ]
  },
  {
   "cell_type": "code",
   "execution_count": 7,
   "metadata": {},
   "outputs": [
    {
     "data": {
      "text/plain": [
       "array([1., 1., 2., 1., 1., 2., 2., 1., 2., 2., 1., 1., 1., 1., 1., 1., 1.,\n",
       "       2., 2., 1., 2., 2., 1., 2., 2., 2., 4., 1., 2., 1., 2., 2., 2., 2.,\n",
       "       2., 2., 1., 2., 1., 1., 2., 2., 2., 1., 2., 2., 1., 2., 2., 2., 1.,\n",
       "       2., 1., 1., 2., 1., 2., 2., 2., 2., 1., 2., 2., 1., 2., 1., 2., 2.,\n",
       "       2., 2., 1., 2., 2., 1., 2., 2., 2., 2., 2., 2., 1., 2., 2., 2., 2.,\n",
       "       2., 1., 2., 1., 2., 2., 2., 2., 2., 2., 2., 2., 2., 2., 1., 2., 2.,\n",
       "       2., 2., 2., 1., 2., 1., 2., 2., 2., 2., 2., 1., 2., 2., 1., 1., 2.,\n",
       "       1., 1., 2., 2., 2., 1., 1., 1., 2., 2., 1., 2., 2., 2., 2., 1., 2.,\n",
       "       1., 2., 1., 2., 2., 2., 1., 1., 1., 1., 1., 2., 1., 1., 2., 2., 2.,\n",
       "       1., 2., 1., 2., 2., 2., 2., 2., 2., 1., 2., 2., 1., 2., 2., 1., 2.,\n",
       "       2., 1., 2., 1., 2., 2., 2., 1., 1., 2., 1., 2., 2., 1., 2., 2., 2.,\n",
       "       2., 1., 2., 2., 2., 2., 1., 1., 2., 2., 1., 2., 2., 2., 1., 4., 2.,\n",
       "       1., 4., 2., 2., 1., 2., 1., 2., 1., 1., 1., 2., 2., 2., 2., 2., 2.,\n",
       "       2., 1., 4., 2., 2., 1., 1., 1., 2., 4., 1., 1., 2., 2., 2., 2., 2.,\n",
       "       2., 1., 1., 2., 2., 1., 2., 2., 2., 1., 2., 2., 2., 4., 2., 2., 2.,\n",
       "       1., 2., 1., 2., 1., 2., 1., 1., 1., 2., 2., 1., 2., 1., 1., 1., 2.,\n",
       "       2., 1., 1., 2., 1., 2., 2., 2., 2., 2., 2., 1., 2., 4., 1., 1., 2.,\n",
       "       2., 2., 2., 2., 1., 1., 1., 2., 2., 2., 1., 1., 2., 1., 2., 1., 2.,\n",
       "       1., 1., 2., 1., 2., 1., 2., 1., 2., 2., 2., 2., 1., 2., 2., 2., 2.,\n",
       "       2., 2., 1., 2., 2., 2., 1., 1., 2., 1., 2., 2., 2., 2., 2., 2., 1.,\n",
       "       2., 2., 1., 1., 1., 2., 4., 1., 1., 2., 1., 1., 2., 1., 2., 1., 1.,\n",
       "       1., 1., 2., 2., 1., 1., 1., 1., 2., 2., 2., 2., 1., 2., 2., 2., 2.,\n",
       "       1., 2.])"
      ]
     },
     "execution_count": 7,
     "metadata": {},
     "output_type": "execute_result"
    }
   ],
   "source": [
    "pred_detections[\"label_preds\"]"
   ]
  },
  {
   "cell_type": "code",
   "execution_count": 8,
   "metadata": {},
   "outputs": [],
   "source": [
    "pc_name = path.join(\"../results/lidar\", frame_name +\".pkl\")\n",
    "with open(pc_name, 'rb') as f:\n",
    "    lidar_dict = pickle.load(f)"
   ]
  },
  {
   "cell_type": "code",
   "execution_count": 9,
   "metadata": {},
   "outputs": [
    {
     "data": {
      "text/plain": [
       "PointCloud with 176258 points."
      ]
     },
     "execution_count": 9,
     "metadata": {},
     "output_type": "execute_result"
    }
   ],
   "source": [
    "pcd = o3d.geometry.PointCloud()\n",
    "pcd.points = o3d.utility.Vector3dVector(lidar_dict[\"lidars\"][\"points_xyz\"])\n",
    "pcd.paint_uniform_color([0.8,0.8,0.8])"
   ]
  },
  {
   "cell_type": "code",
   "execution_count": 10,
   "metadata": {},
   "outputs": [],
   "source": [
    "cluster_name = path.join(\"../results/cluster\", frame_name +\".pkl\")\n",
    "with open(cluster_name, 'rb') as f:\n",
    "    cluster_dict = pickle.load(f) #x,y,z,cluster,label\n",
    "labeled_clusters = cluster_dict[\"cluster_pcs\"]"
   ]
  },
  {
   "cell_type": "code",
   "execution_count": 11,
   "metadata": {},
   "outputs": [
    {
     "name": "stdout",
     "output_type": "stream",
     "text": [
      "[[24.69628906  5.80493164  2.10778809  0.2578125   0.32324219  1.86523438\n",
      "  -1.        ]\n",
      " [ 2.          2.          2.          2.          2.          2.\n",
      "   2.        ]\n",
      " [26.51269531  1.54016113  2.17990112  2.54296875  1.67211914  1.88336182\n",
      "  -1.        ]\n",
      " [ 1.          1.          1.          1.          1.          1.\n",
      "   1.        ]\n",
      " [ 1.          1.          1.          1.          1.          1.\n",
      "   1.        ]\n",
      " [ 1.          1.          1.          1.          1.          1.\n",
      "   1.        ]\n",
      " [ 4.          4.          4.          4.          4.          4.\n",
      "   4.        ]\n",
      " [ 1.          1.          1.          1.          1.          1.\n",
      "   1.        ]]\n"
     ]
    }
   ],
   "source": [
    "print(cluster_dict[\"cluster_bboxes\"])"
   ]
  },
  {
   "cell_type": "code",
   "execution_count": 12,
   "metadata": {},
   "outputs": [],
   "source": [
    "clusters = np.delete(labeled_clusters, -1, axis=1)"
   ]
  },
  {
   "cell_type": "code",
   "execution_count": 13,
   "metadata": {},
   "outputs": [],
   "source": [
    "with open(path.join(\"../results/road_mask\", frame_name + \".pkl\"), \"rb\") as f:\n",
    "    road_points = pickle.load(f)\n",
    "    road = o3d.geometry.PointCloud()\n",
    "    road.points = o3d.utility.Vector3dVector(road_points)"
   ]
  },
  {
   "cell_type": "markdown",
   "metadata": {},
   "source": [
    "## Visualize clustering"
   ]
  },
  {
   "cell_type": "code",
   "execution_count": 14,
   "metadata": {},
   "outputs": [],
   "source": [
    "sorted_clusters = clusters[clusters[:,-1].argsort()]\n",
    "np.unique(sorted_clusters[:,-1])\n",
    "cluster_list = np.split(sorted_clusters[:,:-1], np.unique(sorted_clusters[:,-1], return_index=True)[1][1:])"
   ]
  },
  {
   "cell_type": "code",
   "execution_count": 15,
   "metadata": {},
   "outputs": [],
   "source": [
    "cluster_bboxes = [o3d.geometry.AxisAlignedBoundingBox.create_from_points(o3d.utility.Vector3dVector(cluster)) for cluster in cluster_list]"
   ]
  },
  {
   "cell_type": "code",
   "execution_count": 16,
   "metadata": {},
   "outputs": [],
   "source": [
    "cluster_line_sets = [o3d.geometry.LineSet().create_from_axis_aligned_bounding_box(box) for box in cluster_bboxes]\n",
    "for lineset in cluster_line_sets:\n",
    "    lineset.colors = o3d.utility.Vector3dVector([[0, 0,255] for i in range(12)])"
   ]
  },
  {
   "cell_type": "code",
   "execution_count": 17,
   "metadata": {},
   "outputs": [
    {
     "name": "stdout",
     "output_type": "stream",
     "text": [
      "point cloud has 8 clusters\n"
     ]
    }
   ],
   "source": [
    "clusters_pc = o3d.geometry.PointCloud()\n",
    "clusters_pc.points = o3d.utility.Vector3dVector(clusters[:,:-1])\n",
    "cluster_labels = clusters[:,-1]\n",
    "max_label = cluster_labels.max()\n",
    "print(f\"point cloud has {int(max_label + 1)} clusters\")\n",
    "colors = plt.get_cmap(\"tab20b\")(cluster_labels / (max_label if max_label > 0 else 1))\n",
    "colors[cluster_labels < 0] = 0\n",
    "clusters_pc.colors = o3d.utility.Vector3dVector(colors[:, :3])"
   ]
  },
  {
   "cell_type": "code",
   "execution_count": 18,
   "metadata": {},
   "outputs": [],
   "source": [
    "SCORE_THRESHOLD = 0.5"
   ]
  },
  {
   "cell_type": "code",
   "execution_count": 19,
   "metadata": {},
   "outputs": [],
   "source": [
    "def plot_boxes(predictions, score_thresh):\n",
    "    visuals =[] \n",
    "    num_det = predictions['scores'].shape[0]\n",
    "    for i in range(num_det):\n",
    "        score = predictions['scores'][i]\n",
    "        if score < score_thresh:\n",
    "            continue \n",
    "\n",
    "        box = predictions['box3d_lidar'][i:i+1]#.numpy()\n",
    "        print(box)\n",
    "        label = predictions['label_preds'][i]\n",
    "        corner = center_to_corner_box3d(box[:, :3], box[:, 3:6], box[:, -1])[0].tolist()\n",
    "        color = label2color(int(label) -1)\n",
    "        visuals.append(corners_to_lines(corner, color))\n",
    "    return visuals"
   ]
  },
  {
   "cell_type": "code",
   "execution_count": 20,
   "metadata": {},
   "outputs": [
    {
     "name": "stdout",
     "output_type": "stream",
     "text": [
      "[[-10.911776    -5.2522826    0.691644     4.791518     2.1338737\n",
      "    1.8710948    0.           0.          -0.07108343]]\n",
      "[[-17.130545   -4.933069    0.65242     4.554404    2.1105826   1.77434\n",
      "    0.          0.         -0.1250366]]\n",
      "[[27.630629   5.0141616  2.228476   1.0646409  1.0059998  1.8364768\n",
      "   0.         0.        -0.8908042]]\n",
      "[[30.6671     -9.860727    1.7350397   4.7381725   2.050109    1.5572492\n",
      "   0.          0.         -0.10080063]]\n",
      "[[-1.8742723   3.1016316   0.7168346   4.861818    2.147382    1.5226868\n",
      "   0.          0.         -0.10638916]]\n",
      "[[ 8.603115    6.716971    1.1336703   1.12751     0.88702303  1.8520865\n",
      "   0.          0.         -1.7113246 ]]\n",
      "[[55.630978    1.3010044   3.3949757   0.8490493   0.78018284  1.6657428\n",
      "   0.          0.         -3.2755942 ]]\n",
      "[[-41.793888    -2.5826147    0.47546053   4.3582363    1.9391575\n",
      "    1.5039326    0.           0.          -0.09992719]]\n",
      "[[-25.731527     9.978166     1.1634897    1.066333     0.88573784\n",
      "    1.7909464    0.           0.          -3.209715  ]]\n",
      "[[8.589374  9.975131  1.0900788 1.0589379 0.9026868 1.691789  0.\n",
      "  0.        1.1472   ]]\n",
      "[[-7.552048    0.6583025   0.74862635  4.608583    2.1282828   1.5370835\n",
      "   0.          0.         -0.08224416]]\n",
      "[[ 44.231686   -11.648309     2.4095569    4.113063     1.9369566\n",
      "    1.5422852    0.           0.          -0.11532474]]\n",
      "[[12.492827  12.26248    1.2198944  4.3735614  1.9972184  1.7897556\n",
      "   0.         0.         1.4782866]]\n",
      "[[18.237217  -8.950684   1.2424216  4.496965   1.9841168  1.5379055\n",
      "   0.         0.         1.4347874]]\n",
      "[[-24.410667     1.7912822    0.75412214   4.263957     2.0317304\n",
      "    1.5151592    0.           0.          -0.08083558]]\n",
      "[[36.20439    -0.6459362   2.539904    5.5949354   2.4515934   2.1812623\n",
      "   0.          0.         -0.08991766]]\n",
      "[[ 16.69173   -19.317984    1.1842068   4.9089103   2.199389    1.8583763\n",
      "    0.          0.          1.4803995]]\n",
      "[[-62.588474    -4.5174136    0.5907651    0.6538535    0.67745996\n",
      "    1.6184988    0.           0.          -0.0729934 ]]\n",
      "[[-63.660473    -3.6105125    0.6633044    0.62236387   0.68931293\n",
      "    1.6920248    0.           0.          -0.06738067]]\n",
      "[[ 11.585727  -19.085976    0.8671113   4.4985113   2.0809932   1.7976856\n",
      "    0.          0.          1.503565 ]]\n",
      "[[ 24.092093   -22.855154     1.5627882    1.0828235    0.97810477\n",
      "    1.8657182    0.           0.           1.3952786 ]]\n",
      "[[25.49374    0.9850024  1.7236097  1.0515826  0.8510923  1.7099338\n",
      "   0.         0.        -1.6132287]]\n",
      "[[48.6055     -1.763824    3.1381135   5.4119296   2.2803032   2.151811\n",
      "   0.          0.         -0.12069285]]\n",
      "[[ 26.142912   -12.514088     1.6432972    0.90938455   0.9035213\n",
      "    1.7278386    0.           0.           0.52555573]]\n",
      "[[-63.63924     -4.1413946    0.6568194    0.63202304   0.6725625\n",
      "    1.7031811    0.           0.          -0.06443977]]\n",
      "[[26.491907   1.2226776  1.8056319  1.1069287  0.8651504  1.7814404\n",
      "   0.         0.        -1.6239103]]\n",
      "[[15.089227   -5.6593385   1.3273727   2.0924766   0.85350215  1.9876164\n",
      "   0.          0.         -4.61948   ]]\n",
      "[[ 59.75488    -13.108174     3.3935788    4.9519176    2.1986287\n",
      "    1.9007074    0.           0.          -0.08599353]]\n",
      "[[-35.61617     -7.9326396    0.6254873    0.9593456    0.84525186\n",
      "    1.7159154    0.           0.          -0.06838679]]\n",
      "[[-5.281424   -5.628282    0.5868319   5.0939927   2.186988    1.5772992\n",
      "   0.          0.         -0.04065514]]\n",
      "[[-71.69243     -3.0370615    0.76403284   0.7296639    0.74712926\n",
      "    1.7128775    0.           0.          -0.13569844]]\n",
      "[[-69.6724      -3.4468157    0.71316224   0.7330907    0.72093433\n",
      "    1.7346373    0.           0.          -0.10114503]]\n",
      "[[ 12.866323   -10.985201     0.99154145   0.9867244    0.82529074\n",
      "    1.7321768    0.           0.          -3.1773295 ]]\n",
      "[[55.539288   0.6941855  3.3489566  0.8324677  0.7779186  1.6920885\n",
      "   0.         0.        -3.288187 ]]\n",
      "[[-69.37744    -2.5446358   0.7023919   0.794965    0.8048295   1.7869474\n",
      "    0.          0.         -3.2428026]]\n",
      "[[ 21.339205  -45.21637     1.0061326   0.9620873   0.9271181   1.6355267\n",
      "    0.          0.         -1.429115 ]]\n",
      "[[ 6.0923664e+01 -1.0048016e+01  3.3942664e+00  4.3689981e+00\n",
      "   2.0087700e+00  1.6543978e+00  0.0000000e+00  0.0000000e+00\n",
      "  -3.2860875e-02]]\n",
      "[[-66.31434     -4.2947817    0.6597929    0.73953027   0.7471444\n",
      "    1.7042713    0.           0.          -0.094396  ]]\n",
      "[[-59.54058      3.131297     0.7562651    4.474435     2.0842636\n",
      "    1.6933036    0.           0.          -0.15427053]]\n",
      "[[-41.971058     0.05236032   0.6547799    4.5920873    2.0875099\n",
      "    1.5439095    0.           0.          -0.16015041]]\n",
      "[[ 31.09655    -12.621623     2.004433     0.8174281    0.82645285\n",
      "    1.8380497    0.           0.          -0.24298787]]\n",
      "[[  9.69925    -14.213017     0.70316774   1.4413098    0.88115627\n",
      "    1.7895213    0.           0.          -2.5019748 ]]\n",
      "[[ 31.564009   -12.154863     2.0198185    0.73524094   0.77396035\n",
      "    1.8108658    0.           0.          -1.7293975 ]]\n",
      "[[26.525108  39.393055   2.1022658  4.417418   1.9478655  1.4986489\n",
      "   0.         0.         1.4683961]]\n",
      "[[ 20.583153  -48.371635    1.0042989   0.8001158   0.8488368   1.6262887\n",
      "    0.          0.         -2.209418 ]]\n",
      "[[ 8.230029   12.247065    1.1928794   0.99544126  0.8662111   1.759142\n",
      "   0.          0.         -1.727236  ]]\n",
      "[[ 71.91341    -14.241424     3.913398     3.989766     1.8393505\n",
      "    1.6439857    0.           0.          -0.11326599]]\n",
      "[[ 19.323416  -47.95529     1.003653    0.8493723   0.9266437   1.7562551\n",
      "    0.          0.         -1.2136323]]\n",
      "[[26.154043   1.14788    1.7668656  1.0816541  0.8480812  1.7390765\n",
      "   0.         0.        -1.6173537]]\n",
      "[[-37.4812       3.3251326    0.9254804    4.4524527    2.1199477\n",
      "    1.8300974    0.           0.          -0.11331868]]\n",
      "[[  3.226215   -38.68802     -0.0843051    0.87315226   0.8286679\n",
      "    1.6133074    0.           0.          -4.706178  ]]\n",
      "[[-26.610094     5.1587596    1.332992     7.8583155    2.8771718\n",
      "    2.965153     0.           0.          -0.06059766]]\n",
      "[[ 66.531906   -13.951104     3.6200874    4.341411     2.0139952\n",
      "    1.748689     0.           0.          -0.09846663]]\n",
      "[[27.950455   26.159473    2.0518136   0.9319496   0.85015506  1.6562113\n",
      "   0.          0.          1.4472352 ]]\n",
      "[[-59.71745     -0.50000584   0.5047553    4.391073     1.9773875\n",
      "    1.6214292    0.           0.          -0.1159631 ]]\n",
      "[[ 12.746699   -11.028605     0.92817307   0.84915215   0.6894353\n",
      "    1.3352246    0.           0.          -3.1849093 ]]\n",
      "[[  4.7306614  -33.2386       0.18439354   1.0662082    0.9555763\n",
      "    1.8274059    0.           0.           1.5126482 ]]\n",
      "[[  5.4252205  -14.92712      0.55817944   0.89509773   0.7980843\n",
      "    1.6068885    0.           0.          -1.7519326 ]]\n",
      "[[-54.873535    -6.482902     0.81239575   0.8986357    0.900792\n",
      "    1.8534713    0.           0.          -1.6281874 ]]\n",
      "[[55.286907   -2.516949    3.269977    4.491547    2.0743942   1.7493799\n",
      "   0.          0.         -0.11678255]]\n",
      "[[ 20.330303   -51.127617     1.0502927    0.79378605   0.8064045\n",
      "    1.688089     0.           0.          -4.675626  ]]\n",
      "[[ 26.09653   -16.773952    1.7052252   0.6339142   0.7337341   1.7980069\n",
      "    0.          0.         -2.6375349]]\n",
      "[[-73.09433      0.9893849    1.5159087   11.278597     3.0763135\n",
      "    3.3313475    0.           0.          -0.11580062]]\n",
      "[[30.881931   47.26241     2.65214     0.901936    0.90753627  1.7868046\n",
      "   0.          0.          1.4590336 ]]\n",
      "[[-47.16175     -1.8335041    0.58717895   4.62685      2.1061552\n",
      "    1.7073584    0.           0.          -0.1453613 ]]\n",
      "[[-69.3853      -2.4269598    0.69198424   0.8137481    0.8192706\n",
      "    1.7668222    0.           0.          -3.2257323 ]]\n",
      "[[ 22.259748  -43.527042    0.9930473   0.8267449   0.8558174   1.679833\n",
      "    0.          0.         -3.2407184]]\n",
      "[[ 4.1342006e+00 -3.6579098e+01  1.3907438e-02  9.0489066e-01\n",
      "   8.9835626e-01  1.6279967e+00  0.0000000e+00  0.0000000e+00\n",
      "  -1.5639799e+00]]\n",
      "[[-53.819077    -1.1275656    0.44587842   4.404544     2.0096958\n",
      "    1.6244859    0.           0.          -0.15605688]]\n",
      "[[30.947985   47.14512     2.6630092   0.8800735   0.89304334  1.7582561\n",
      "   0.          0.          1.4323791 ]]\n",
      "[[-66.99531      9.378215     0.60000116   4.2454343    1.8923203\n",
      "    1.6240683    0.           0.          -0.10421467]]\n",
      "[[45.347748   2.9284682  3.0008442  0.8976036  0.8612584  1.6445386\n",
      "   0.         0.        -2.057063 ]]\n",
      "[[-71.75635     -3.1069012    0.7714683    0.7132533    0.71094054\n",
      "    1.7197204    0.           0.          -0.14315915]]\n",
      "[[-53.963757    -6.6657295    0.806738     0.89082026   0.90582603\n",
      "    1.930971     0.           0.           1.5217842 ]]\n",
      "[[ 23.072258   -27.097113     1.5096469    0.83295596   0.87111735\n",
      "    1.7543472    0.           0.          -4.05174   ]]\n",
      "[[-38.339725     6.1770554    1.3186097    5.9764767    2.4933608\n",
      "    2.4038026    0.           0.          -0.10894156]]\n",
      "[[ 18.899744   -52.344536     1.0016731    0.81134766   0.8257866\n",
      "    1.7952442    0.           0.           1.5709912 ]]\n",
      "[[ 72.14471    -14.417038     4.018546     4.5130982    2.0888424\n",
      "    1.7794956    0.           0.          -0.11900532]]\n",
      "[[-66.98243      9.658855     0.51981115   4.3671083    1.9822713\n",
      "    1.723918     0.           0.          -0.16997933]]\n",
      "[[-72.54967      1.0528378    1.4899269    9.787264     3.0646677\n",
      "    3.3194232    0.           0.          -0.10908294]]\n"
     ]
    }
   ],
   "source": [
    "visuals = [pcd, clusters_pc]\n",
    "visuals += cluster_line_sets\n",
    "pred_box_linesets = plot_boxes(pred_detections, SCORE_THRESHOLD)\n",
    "visuals += pred_box_linesets\n",
    "o3d.visualization.draw_geometries(visuals, width=3072, height=1920)"
   ]
  },
  {
   "cell_type": "code",
   "execution_count": 21,
   "metadata": {},
   "outputs": [],
   "source": [
    "def center_to_AABB_box3d(boxes):\n",
    "    AABBs =[] \n",
    "    num_det = len(boxes)\n",
    "    for i in range(num_det):\n",
    "        box = boxes[i:i+1]\n",
    "        corner = np.array(center_to_corner_box3d(box[:, :3], box[:, 3:6], box[:, -1])[0].tolist())\n",
    "        AABBs.append(o3d.geometry.AxisAlignedBoundingBox(corner.min(axis=0), corner.max(axis=0)))\n",
    "    return AABBs"
   ]
  },
  {
   "cell_type": "code",
   "execution_count": 22,
   "metadata": {},
   "outputs": [
    {
     "data": {
      "text/plain": [
       "(376, 9)"
      ]
     },
     "execution_count": 22,
     "metadata": {},
     "output_type": "execute_result"
    }
   ],
   "source": [
    "pred_detections[\"box3d_lidar\"].shape"
   ]
  },
  {
   "cell_type": "code",
   "execution_count": 23,
   "metadata": {},
   "outputs": [],
   "source": [
    "pred_bboxes_points = pred_detections[\"box3d_lidar\"][np.argwhere(pred_detections[\"scores\"] > SCORE_THRESHOLD).flatten()]"
   ]
  },
  {
   "cell_type": "code",
   "execution_count": 24,
   "metadata": {},
   "outputs": [],
   "source": [
    "AABBs = center_to_AABB_box3d(pred_bboxes_points)"
   ]
  },
  {
   "cell_type": "code",
   "execution_count": 25,
   "metadata": {},
   "outputs": [],
   "source": [
    "PIBB_THRESHOLD = 0.5"
   ]
  },
  {
   "cell_type": "code",
   "execution_count": 26,
   "metadata": {},
   "outputs": [],
   "source": [
    "for lineset in pred_box_linesets:\n",
    "    lineset.colors = o3d.utility.Vector3dVector([[0, 0, 0] for i in range(12)])"
   ]
  },
  {
   "cell_type": "code",
   "execution_count": 27,
   "metadata": {},
   "outputs": [
    {
     "name": "stdout",
     "output_type": "stream",
     "text": [
      "Took 0.05016899108886719 seconds\n"
     ]
    }
   ],
   "source": [
    "start = time.time()\n",
    "cluster_pc_list = []\n",
    "for cluster_index, cluster_points in zip(range(len(cluster_list)), cluster_list):    \n",
    "    cluster_pc = o3d.geometry.PointCloud()\n",
    "    cluster_pc.points = o3d.utility.Vector3dVector(cluster_points)\n",
    "    cluster_pc.paint_uniform_color([1,0,0])\n",
    "    for AABB_index, AABB in zip(range(len(AABBs)), AABBs):\n",
    "        num_points = len(cluster_points)\n",
    "        points_in_AABB_index = AABB.get_point_indices_within_bounding_box(o3d.utility.Vector3dVector(cluster_points))\n",
    "        if((len(points_in_AABB_index) / num_points) >= PIBB_THRESHOLD):\n",
    "            colors = np.asarray(cluster_pc.colors)\n",
    "            colors[points_in_AABB_index] = [0, 255, 0]\n",
    "            cluster_pc.colors = o3d.utility.Vector3dVector(colors)\n",
    "            cluster_pc_list.append(cluster_pc)\n",
    "            \n",
    "            pred_box_linesets[AABB_index].colors = o3d.utility.Vector3dVector([[0, 255, 0] for i in range(12)])\n",
    "            cluster_line_sets[cluster_index].colors = o3d.utility.Vector3dVector([[0, 255, 0] for i in range(12)])\n",
    "            break\n",
    "\n",
    "end = time.time()\n",
    "print(\"Took {} seconds\".format(end - start))"
   ]
  },
  {
   "cell_type": "code",
   "execution_count": 28,
   "metadata": {},
   "outputs": [],
   "source": [
    "visuals = [pcd, road]\n",
    "visuals += cluster_line_sets\n",
    "visuals += pred_box_linesets\n",
    "visuals += cluster_pc_list\n",
    "o3d.visualization.draw_geometries(visuals, width=3072, height=1920,)"
   ]
  },
  {
   "cell_type": "code",
   "execution_count": null,
   "metadata": {},
   "outputs": [],
   "source": []
  }
 ],
 "metadata": {
  "interpreter": {
   "hash": "64d4f2d7021987c9d6d939b2e602087e441bb21ffa259bf75d793fea4acf0930"
  },
  "kernelspec": {
   "display_name": "Python 3.9.9 64-bit ('duoor': conda)",
   "language": "python",
   "name": "python3"
  },
  "language_info": {
   "codemirror_mode": {
    "name": "ipython",
    "version": 3
   },
   "file_extension": ".py",
   "mimetype": "text/x-python",
   "name": "python",
   "nbconvert_exporter": "python",
   "pygments_lexer": "ipython3",
   "version": "3.9.9"
  },
  "orig_nbformat": 4
 },
 "nbformat": 4,
 "nbformat_minor": 2
}
