{
 "cells": [
  {
   "cell_type": "code",
   "execution_count": 241,
   "metadata": {},
   "outputs": [],
   "source": [
    "import numpy as np\n",
    "import open3d as o3d\n",
    "import pickle\n",
    "from os import path\n",
    "import matplotlib.pyplot as plt\n",
    "import time\n"
   ]
  },
  {
   "cell_type": "code",
   "execution_count": 242,
   "metadata": {},
   "outputs": [],
   "source": [
    "import sys \n",
    "from os import path\n",
    "sys.path.append(path.relpath('../../.'))\n",
    "sys.path.append(path.relpath('../../CenterPoint'))\n",
    "from CenterPoint.tools.visual import center_to_corner_box3d, label2color, corners_to_lines"
   ]
  },
  {
   "cell_type": "code",
   "execution_count": 243,
   "metadata": {},
   "outputs": [],
   "source": [
    "with open(\"../../results/detection_pred.pkl\", 'rb') as f:\n",
    "    detection_preds_dict = pickle.load(f)"
   ]
  },
  {
   "cell_type": "code",
   "execution_count": 244,
   "metadata": {},
   "outputs": [],
   "source": [
    "#frame_name = \"39847154216997509_6440_000_6460_000-1568954807924818\"\n",
    "#frame_name = \"6503078254504013503_3440_000_3460_000-1557855930472609\"\n",
    "frame_name = \"7240042450405902042_580_000_600_000-1559312894537967\"\n",
    "#frame_name = \"792520390268391604_780_000_800_000-1557276788222160\"\n",
    "#frame_name = \"2257381802419655779_820_000_840_000-1558402112447836\""
   ]
  },
  {
   "cell_type": "code",
   "execution_count": 245,
   "metadata": {},
   "outputs": [],
   "source": [
    "pred_detections = detection_preds_dict[frame_name]"
   ]
  },
  {
   "cell_type": "code",
   "execution_count": 246,
   "metadata": {},
   "outputs": [],
   "source": [
    "pc_name = path.join(\"../../results/lidar\", frame_name +\".pkl\")\n",
    "with open(pc_name, 'rb') as f:\n",
    "    lidar_dict = pickle.load(f)"
   ]
  },
  {
   "cell_type": "code",
   "execution_count": 247,
   "metadata": {},
   "outputs": [
    {
     "data": {
      "text/plain": [
       "PointCloud with 188154 points."
      ]
     },
     "execution_count": 247,
     "metadata": {},
     "output_type": "execute_result"
    }
   ],
   "source": [
    "pcd = o3d.geometry.PointCloud()\n",
    "pcd.points = o3d.utility.Vector3dVector(lidar_dict[\"lidars\"][\"points_xyz\"])\n",
    "pcd.paint_uniform_color([0.8,0.8,0.8])"
   ]
  },
  {
   "cell_type": "code",
   "execution_count": 248,
   "metadata": {},
   "outputs": [
    {
     "data": {
      "text/plain": [
       "array([[-1.6305780e+01, -2.9985735e-01,  7.0989197e-01, ...,\n",
       "         0.0000000e+00,  0.0000000e+00,  1.7578602e-03],\n",
       "       [ 2.2708923e+01, -9.4064674e+00,  1.2150177e+00, ...,\n",
       "         0.0000000e+00,  0.0000000e+00, -2.1505718e+00],\n",
       "       [ 6.1421669e+01,  1.3807109e+01,  9.8410922e-01, ...,\n",
       "         0.0000000e+00,  0.0000000e+00,  4.1654348e-02],\n",
       "       ...,\n",
       "       [ 2.0077808e+01, -1.0403754e+01,  1.0939202e+00, ...,\n",
       "         0.0000000e+00,  0.0000000e+00, -3.4553933e+00],\n",
       "       [-1.6868788e+01, -3.6774914e+01,  1.4971629e+00, ...,\n",
       "         0.0000000e+00,  0.0000000e+00, -1.2188206e+00],\n",
       "       [ 8.1310921e+00, -5.4835213e+01,  2.5890925e+00, ...,\n",
       "         0.0000000e+00,  0.0000000e+00, -3.9777141e+00]], dtype=float32)"
      ]
     },
     "execution_count": 248,
     "metadata": {},
     "output_type": "execute_result"
    }
   ],
   "source": [
    "pred_detections[\"box3d_lidar\"]"
   ]
  },
  {
   "cell_type": "code",
   "execution_count": 249,
   "metadata": {},
   "outputs": [],
   "source": [
    "cluster_name = path.join(\"../../results/cluster\", frame_name +\".pkl\")\n",
    "with open(cluster_name, 'rb') as f:\n",
    "    cluster_dict = pickle.load(f) #x,y,z,cluster,label\n",
    "labeled_clusters = cluster_dict[\"cluster_pcs\"]"
   ]
  },
  {
   "cell_type": "code",
   "execution_count": 250,
   "metadata": {},
   "outputs": [],
   "source": [
    "clusters = np.delete(labeled_clusters, -1, axis=1)"
   ]
  },
  {
   "cell_type": "markdown",
   "metadata": {},
   "source": [
    "## Visualize clustering"
   ]
  },
  {
   "cell_type": "code",
   "execution_count": 251,
   "metadata": {},
   "outputs": [],
   "source": [
    "sorted_clusters = clusters[clusters[:,-1].argsort()]\n",
    "np.unique(sorted_clusters[:,-1])\n",
    "cluster_list = np.split(sorted_clusters[:,:-1], np.unique(sorted_clusters[:,-1], return_index=True)[1][1:])"
   ]
  },
  {
   "cell_type": "code",
   "execution_count": 252,
   "metadata": {},
   "outputs": [],
   "source": [
    "cluster_bboxes = [o3d.geometry.AxisAlignedBoundingBox.create_from_points(o3d.utility.Vector3dVector(cluster)) for cluster in cluster_list]"
   ]
  },
  {
   "cell_type": "code",
   "execution_count": 253,
   "metadata": {},
   "outputs": [],
   "source": [
    "cluster_line_sets = [o3d.geometry.LineSet().create_from_axis_aligned_bounding_box(box) for box in cluster_bboxes]\n",
    "for lineset in cluster_line_sets:\n",
    "    lineset.colors = o3d.utility.Vector3dVector([[255, 0,0] for i in range(12)])"
   ]
  },
  {
   "cell_type": "code",
   "execution_count": 254,
   "metadata": {},
   "outputs": [
    {
     "name": "stdout",
     "output_type": "stream",
     "text": [
      "point cloud has 3 clusters\n"
     ]
    }
   ],
   "source": [
    "clusters_pc = o3d.geometry.PointCloud()\n",
    "clusters_pc.points = o3d.utility.Vector3dVector(clusters[:,:-1])\n",
    "cluster_labels = clusters[:,-1]\n",
    "max_label = cluster_labels.max()\n",
    "print(f\"point cloud has {int(max_label + 1)} clusters\")\n",
    "colors = plt.get_cmap(\"tab20b\")(cluster_labels / (max_label if max_label > 0 else 1))\n",
    "colors[cluster_labels < 0] = 0\n",
    "clusters_pc.colors = o3d.utility.Vector3dVector(colors[:, :3])"
   ]
  },
  {
   "cell_type": "code",
   "execution_count": 255,
   "metadata": {},
   "outputs": [],
   "source": [
    "SCORE_THRESHOLD = 0.5"
   ]
  },
  {
   "cell_type": "code",
   "execution_count": 256,
   "metadata": {},
   "outputs": [],
   "source": [
    "def plot_boxes(predictions, score_thresh):\n",
    "    visuals =[] \n",
    "    num_det = predictions['scores'].shape[0]\n",
    "    for i in range(num_det):\n",
    "        score = predictions['scores'][i]\n",
    "        if score < score_thresh:\n",
    "            continue \n",
    "\n",
    "        box = predictions['box3d_lidar'][i:i+1]#.numpy()\n",
    "        label = predictions['label_preds'][i]\n",
    "        corner = center_to_corner_box3d(box[:, :3], box[:, 3:6], box[:, -1])[0].tolist()\n",
    "        color = label2color(int(label) -1)\n",
    "        visuals.append(corners_to_lines(corner, color))\n",
    "    return visuals"
   ]
  },
  {
   "cell_type": "code",
   "execution_count": 257,
   "metadata": {},
   "outputs": [],
   "source": [
    "visuals = [pcd, clusters_pc]\n",
    "visuals += cluster_line_sets\n",
    "pred_box_linesets = plot_boxes(pred_detections, SCORE_THRESHOLD)\n",
    "for lineset in pred_box_linesets:\n",
    "    lineset.colors = o3d.utility.Vector3dVector([[0, 0,0] for i in range(12)])\n",
    "#visuals += pred_box_linesets\n",
    "o3d.visualization.draw_geometries(visuals, width=3072, height=1920)"
   ]
  },
  {
   "cell_type": "code",
   "execution_count": 258,
   "metadata": {},
   "outputs": [],
   "source": [
    "def center_to_AABB_box3d(boxes):\n",
    "    AABBs =[] \n",
    "    num_det = len(boxes)\n",
    "    for i in range(num_det):\n",
    "        box = boxes[i:i+1]\n",
    "        corner = np.array(center_to_corner_box3d(box[:, :3], box[:, 3:6], box[:, -1])[0].tolist())\n",
    "        AABBs.append(o3d.geometry.AxisAlignedBoundingBox(corner.min(axis=0), corner.max(axis=0)))\n",
    "    return AABBs"
   ]
  },
  {
   "cell_type": "code",
   "execution_count": 259,
   "metadata": {},
   "outputs": [
    {
     "data": {
      "text/plain": [
       "(166, 9)"
      ]
     },
     "execution_count": 259,
     "metadata": {},
     "output_type": "execute_result"
    }
   ],
   "source": [
    "pred_detections[\"box3d_lidar\"].shape"
   ]
  },
  {
   "cell_type": "code",
   "execution_count": 260,
   "metadata": {},
   "outputs": [],
   "source": [
    "pred_bboxes_points = pred_detections[\"box3d_lidar\"][np.argwhere(pred_detections[\"scores\"] > SCORE_THRESHOLD).flatten()]"
   ]
  },
  {
   "cell_type": "code",
   "execution_count": 261,
   "metadata": {},
   "outputs": [],
   "source": [
    "AABBs = center_to_AABB_box3d(pred_bboxes_points)"
   ]
  },
  {
   "cell_type": "code",
   "execution_count": 262,
   "metadata": {},
   "outputs": [],
   "source": [
    "PIBB_THRESHOLD = 0.5"
   ]
  },
  {
   "cell_type": "code",
   "execution_count": 263,
   "metadata": {},
   "outputs": [],
   "source": [
    "for lineset in pred_box_linesets:\n",
    "    lineset.colors = o3d.utility.Vector3dVector([[0, 0, 0] for i in range(12)])"
   ]
  },
  {
   "cell_type": "code",
   "execution_count": 275,
   "metadata": {},
   "outputs": [
    {
     "name": "stdout",
     "output_type": "stream",
     "text": [
      "Took 0.03980517387390137 seconds\n"
     ]
    }
   ],
   "source": [
    "start = time.time()\n",
    "cluster_pc_list = []\n",
    "for cluster_index, cluster_points in zip(range(len(cluster_list)), cluster_list):    \n",
    "    cluster_pc = o3d.geometry.PointCloud()\n",
    "    cluster_pc.points = o3d.utility.Vector3dVector(cluster_points)\n",
    "    cluster_pc.paint_uniform_color([1,0,0])\n",
    "    cluster_pc_list.append(cluster_pc)\n",
    "    for AABB_index, AABB in zip(range(len(AABBs)), AABBs):\n",
    "        num_points = len(cluster_points)\n",
    "        points_in_AABB_index = AABB.get_point_indices_within_bounding_box(o3d.utility.Vector3dVector(cluster_points))\n",
    "        if((len(points_in_AABB_index) / num_points) >= PIBB_THRESHOLD):\n",
    "            colors = np.asarray(cluster_pc.colors)\n",
    "            colors[points_in_AABB_index] = [0, 255, 0]\n",
    "            cluster_pc_list[-1].colors = o3d.utility.Vector3dVector(colors)\n",
    "            \n",
    "            pred_box_linesets[AABB_index].colors = o3d.utility.Vector3dVector([[0, 255, 0] for i in range(12)])\n",
    "            cluster_line_sets[cluster_index].colors = o3d.utility.Vector3dVector([[0, 255, 0] for i in range(12)])\n",
    "            break\n",
    "\n",
    "\n",
    "end = time.time()\n",
    "print(\"Took {} seconds\".format(end - start))"
   ]
  },
  {
   "cell_type": "code",
   "execution_count": 276,
   "metadata": {},
   "outputs": [],
   "source": [
    "visuals = [pcd]\n",
    "visuals += cluster_line_sets\n",
    "visuals += pred_box_linesets\n",
    "visuals += cluster_pc_list\n",
    "o3d.visualization.draw_geometries(visuals, width=3072, height=1920,)"
   ]
  },
  {
   "cell_type": "code",
   "execution_count": null,
   "metadata": {},
   "outputs": [],
   "source": []
  }
 ],
 "metadata": {
  "interpreter": {
   "hash": "64d4f2d7021987c9d6d939b2e602087e441bb21ffa259bf75d793fea4acf0930"
  },
  "kernelspec": {
   "display_name": "Python 3.9.9 64-bit ('duoor': conda)",
   "language": "python",
   "name": "python3"
  },
  "language_info": {
   "codemirror_mode": {
    "name": "ipython",
    "version": 3
   },
   "file_extension": ".py",
   "mimetype": "text/x-python",
   "name": "python",
   "nbconvert_exporter": "python",
   "pygments_lexer": "ipython3",
   "version": "3.9.9"
  },
  "orig_nbformat": 4
 },
 "nbformat": 4,
 "nbformat_minor": 2
}
