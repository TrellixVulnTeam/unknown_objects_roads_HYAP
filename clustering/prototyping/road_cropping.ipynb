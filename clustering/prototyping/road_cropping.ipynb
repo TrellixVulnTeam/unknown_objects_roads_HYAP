{
 "cells": [
  {
   "cell_type": "code",
   "execution_count": 64,
   "metadata": {},
   "outputs": [],
   "source": [
    "import pickle\n",
    "import numpy as np\n",
    "import open3d as o3d\n",
    "from laserscan import SemLaserScan\n",
    "import yaml\n",
    "import matplotlib.pyplot as plt\n",
    "import copy\n",
    "import trimesh\n",
    "import os"
   ]
  },
  {
   "cell_type": "code",
   "execution_count": 66,
   "metadata": {},
   "outputs": [],
   "source": [
    "def save_pc(pcd_list, filename=\"pc.png\"):\n",
    "    vis = o3d.visualization.Visualizer()\n",
    "    vis.create_window(visible=False) \n",
    "    vis.add_geometry(pcd)\n",
    "    vis.update_geometry(pcd)\n",
    "    vis.poll_events()\n",
    "    vis.update_renderer()\n",
    "    vis.capture_screen_image(filename, do_render=True)\n",
    "    vis.destroy_window()"
   ]
  },
  {
   "cell_type": "code",
   "execution_count": 67,
   "metadata": {},
   "outputs": [],
   "source": [
    "def display_inlier_outlier(cloud, ind, window_name=\"Open3d\"):\n",
    "    inlier_cloud = cloud.select_by_index(ind)\n",
    "    outlier_cloud = cloud.select_by_index(ind, invert=True)\n",
    "\n",
    "    print(\"Showing outliers (red) and inliers (gray): \")\n",
    "    outlier_cloud.paint_uniform_color([1, 0, 0])\n",
    "    inlier_cloud.paint_uniform_color([0.8, 0.8, 0.8])\n",
    "    o3d.visualization.draw_geometries([inlier_cloud, outlier_cloud], window_name=window_name)"
   ]
  },
  {
   "cell_type": "code",
   "execution_count": 68,
   "metadata": {},
   "outputs": [],
   "source": [
    "load_kitti = False"
   ]
  },
  {
   "cell_type": "markdown",
   "metadata": {},
   "source": [
    "## KITTI load"
   ]
  },
  {
   "cell_type": "code",
   "execution_count": 69,
   "metadata": {},
   "outputs": [],
   "source": [
    "with open(\"semantic_kitti/semantic-kitti-all.yaml\", \"r\") as stream:\n",
    "    try:\n",
    "        CFG = yaml.safe_load(stream)\n",
    "    except yaml.YAMLError as exc:\n",
    "        print(exc)"
   ]
  },
  {
   "cell_type": "code",
   "execution_count": 70,
   "metadata": {},
   "outputs": [
    {
     "data": {
      "text/plain": [
       "'/00/'"
      ]
     },
     "execution_count": 70,
     "metadata": {},
     "output_type": "execute_result"
    }
   ],
   "source": [
    "kitti_fname = \"000000\"\n",
    "seq_no = 0\n",
    "\"/{:02d}/\".format(seq_no)"
   ]
  },
  {
   "cell_type": "code",
   "execution_count": 71,
   "metadata": {},
   "outputs": [],
   "source": [
    "if load_kitti:\n",
    "    scan = SemLaserScan(sem_color_dict=CFG['color_map'])\n",
    "    scan.open_scan(\"semantic_kitti/dataset/sequences/{:02d}/velodyne/{}.bin\".format(seq_no, kitti_fname))\n",
    "    scan.open_label(\"semantic_kitti/dataset/sequences/{:02d}/labels/{}.label\".format(seq_no, kitti_fname))\n",
    "    scan.colorize()\n",
    "    pcd = o3d.geometry.PointCloud()\n",
    "    pcd.points = o3d.utility.Vector3dVector(scan.points)\n",
    "    #pcd.paint_uniform_color([0.6,0.6,0.6])\n",
    "    pcd.colors = o3d.utility.Vector3dVector(scan.sem_label_color)\n",
    "    \n",
    "    road_indices = np.where((scan.sem_label == 40) )#| (scan.sem_label == 44)) #road, parking\n",
    "    road = o3d.geometry.PointCloud()\n",
    "    road.points = o3d.utility.Vector3dVector(scan.points[road_indices])\n",
    "    road.colors = o3d.utility.Vector3dVector(scan.sem_label_color[road_indices])"
   ]
  },
  {
   "cell_type": "markdown",
   "metadata": {},
   "source": [
    "## Waymo load"
   ]
  },
  {
   "cell_type": "code",
   "execution_count": 72,
   "metadata": {},
   "outputs": [],
   "source": [
    "frame_name = \"39847154216997509_6440_000_6460_000-1568954807924818\"\n",
    "#frame_name = \"6503078254504013503_3440_000_3460_000-1557855930472609\"\n",
    "#frame_name = \"7240042450405902042_580_000_600_000-1559312894537967\""
   ]
  },
  {
   "cell_type": "code",
   "execution_count": 73,
   "metadata": {},
   "outputs": [],
   "source": [
    "if not load_kitti:\n",
    "    #Waymo loading\n",
    "    with open(\"waymo/final_road_mask/{}.pkl\".format(frame_name), \"rb\") as f:\n",
    "        road_points = pickle.load(f)\n",
    "    road = o3d.geometry.PointCloud()\n",
    "    road.points = o3d.utility.Vector3dVector(road_points)\n",
    "\n",
    "    #Waymo loading\n",
    "    with open(\"waymo/lidar_data/{}.pkl\".format(frame_name), \"rb\") as f:\n",
    "        pcd_dict = pickle.load(f)\n",
    "    pcd = o3d.geometry.PointCloud()\n",
    "    pcd.points = o3d.utility.Vector3dVector(pcd_dict[\"lidars\"][\"points_xyz\"])"
   ]
  },
  {
   "cell_type": "markdown",
   "metadata": {},
   "source": [
    "## Point cloud visualization"
   ]
  },
  {
   "cell_type": "code",
   "execution_count": 74,
   "metadata": {},
   "outputs": [],
   "source": [
    "o3d.visualization.draw_geometries([road], window_name=\"Road prediction\")"
   ]
  },
  {
   "cell_type": "code",
   "execution_count": 75,
   "metadata": {},
   "outputs": [],
   "source": [
    "o3d.visualization.draw_geometries([pcd], window_name=\"LiDAR point cloud\")"
   ]
  },
  {
   "cell_type": "code",
   "execution_count": 76,
   "metadata": {},
   "outputs": [],
   "source": [
    "pcd.paint_uniform_color([.6,.6,.6])\n",
    "road.paint_uniform_color([1,0,0])\n",
    "o3d.visualization.draw_geometries([pcd, road], window_name=\"Predicted road in LiDAR PC\")"
   ]
  },
  {
   "cell_type": "markdown",
   "metadata": {},
   "source": [
    "## Transformation to front view"
   ]
  },
  {
   "cell_type": "markdown",
   "metadata": {},
   "source": [
    "Info: X-axis is in driving direction (depth), Y-Axis orthogonal to the drviing direction (width) and z-axis is height"
   ]
  },
  {
   "cell_type": "code",
   "execution_count": 77,
   "metadata": {},
   "outputs": [
    {
     "data": {
      "text/plain": [
       "AxisAlignedBoundingBox: min: (-71.9336, -74.4766, -1.44198), max: (76.2153, 74.6406, 5.34238)"
      ]
     },
     "execution_count": 77,
     "metadata": {},
     "output_type": "execute_result"
    }
   ],
   "source": [
    "pcd.get_axis_aligned_bounding_box()"
   ]
  },
  {
   "cell_type": "code",
   "execution_count": 78,
   "metadata": {},
   "outputs": [],
   "source": [
    "max_bounds = pcd.get_max_bound()"
   ]
  },
  {
   "cell_type": "code",
   "execution_count": 79,
   "metadata": {},
   "outputs": [],
   "source": [
    "min_bounds = pcd.get_min_bound()"
   ]
  },
  {
   "cell_type": "code",
   "execution_count": 80,
   "metadata": {},
   "outputs": [],
   "source": [
    "front_bb = o3d.geometry.AxisAlignedBoundingBox(np.array([0, min_bounds[1], min_bounds[2]]), max_bounds)"
   ]
  },
  {
   "cell_type": "code",
   "execution_count": 81,
   "metadata": {},
   "outputs": [],
   "source": [
    "cropped_road = road.crop(front_bb)\n",
    "cropped_pcd = pcd.crop(front_bb)"
   ]
  },
  {
   "cell_type": "code",
   "execution_count": 82,
   "metadata": {},
   "outputs": [],
   "source": [
    "o3d.visualization.draw_geometries([cropped_pcd, cropped_road], window_name=\"Front view cropped PC with pred. road\")"
   ]
  },
  {
   "cell_type": "markdown",
   "metadata": {},
   "source": [
    "## Road prediction ground estimation"
   ]
  },
  {
   "cell_type": "code",
   "execution_count": 83,
   "metadata": {},
   "outputs": [
    {
     "name": "stdout",
     "output_type": "stream",
     "text": [
      "Plane equation: -0.00x + 0.02y + 1.00z + 0.08 = 0\n"
     ]
    }
   ],
   "source": [
    "ground_model, ground_mask = cropped_road.segment_plane(distance_threshold=0.5,\n",
    "                                         ransac_n=10,\n",
    "                                         num_iterations=500)\n",
    "[a, b, c, d] = ground_model\n",
    "print(f\"Plane equation: {a:.2f}x + {b:.2f}y + {c:.2f}z + {d:.2f} = 0\")"
   ]
  },
  {
   "cell_type": "code",
   "execution_count": 84,
   "metadata": {},
   "outputs": [
    {
     "name": "stdout",
     "output_type": "stream",
     "text": [
      "Showing outliers (red) and inliers (gray): \n"
     ]
    }
   ],
   "source": [
    "display_inlier_outlier(cropped_road, ground_mask, window_name=\"Ground estimation\")"
   ]
  },
  {
   "cell_type": "code",
   "execution_count": 85,
   "metadata": {},
   "outputs": [],
   "source": [
    "cropped_road = cropped_road.select_by_index(ground_mask)\n",
    "cropped_road.paint_uniform_color([0.6,0.6,.6])\n",
    "o3d.visualization.draw_geometries([cropped_road], window_name=\"Road after ground estimation\")"
   ]
  },
  {
   "cell_type": "markdown",
   "metadata": {},
   "source": [
    "## Remove statistical outliers"
   ]
  },
  {
   "cell_type": "code",
   "execution_count": 86,
   "metadata": {},
   "outputs": [
    {
     "name": "stdout",
     "output_type": "stream",
     "text": [
      "Remove statistical outliers: [========================================] 100%\n"
     ]
    }
   ],
   "source": [
    "cl, ind = cropped_road.remove_statistical_outlier(25,8)"
   ]
  },
  {
   "cell_type": "code",
   "execution_count": 87,
   "metadata": {},
   "outputs": [
    {
     "name": "stdout",
     "output_type": "stream",
     "text": [
      "Showing outliers (red) and inliers (gray): \n"
     ]
    }
   ],
   "source": [
    "display_inlier_outlier(cropped_road, ind)"
   ]
  },
  {
   "cell_type": "code",
   "execution_count": 88,
   "metadata": {},
   "outputs": [],
   "source": [
    "cropped_road = cropped_road.select_by_index(ind)"
   ]
  },
  {
   "cell_type": "code",
   "execution_count": 89,
   "metadata": {},
   "outputs": [],
   "source": [
    "o3d.visualization.draw_geometries([cropped_road], window_name=\"Road after ground estimation\")"
   ]
  },
  {
   "cell_type": "markdown",
   "metadata": {},
   "source": [
    "## Calculate convex hull as approximation for road"
   ]
  },
  {
   "cell_type": "code",
   "execution_count": 90,
   "metadata": {},
   "outputs": [
    {
     "data": {
      "text/plain": [
       "True"
      ]
     },
     "execution_count": 90,
     "metadata": {},
     "output_type": "execute_result"
    }
   ],
   "source": [
    "hull, _ = cropped_road.compute_convex_hull()\n",
    "hull_ls = o3d.geometry.LineSet.create_from_triangle_mesh(hull)\n",
    "hull_ls.paint_uniform_color((1, 0, 0))\n",
    "hull.orient_triangles()"
   ]
  },
  {
   "cell_type": "code",
   "execution_count": 91,
   "metadata": {},
   "outputs": [
    {
     "data": {
      "text/plain": [
       "72"
      ]
     },
     "execution_count": 91,
     "metadata": {},
     "output_type": "execute_result"
    }
   ],
   "source": [
    "len(_)"
   ]
  },
  {
   "cell_type": "code",
   "execution_count": 92,
   "metadata": {},
   "outputs": [],
   "source": [
    "hull_points = cropped_road.select_by_index(_).points\n",
    "hull_points = np.asarray(hull_points)"
   ]
  },
  {
   "cell_type": "code",
   "execution_count": 93,
   "metadata": {},
   "outputs": [],
   "source": [
    "hull_points[:,-1] = 0\n",
    "#hull_point"
   ]
  },
  {
   "cell_type": "code",
   "execution_count": 94,
   "metadata": {},
   "outputs": [],
   "source": [
    "o3d.visualization.draw_geometries([cropped_road, hull], window_name=\"Front view cropped road and it's convex hull\")"
   ]
  },
  {
   "cell_type": "code",
   "execution_count": 95,
   "metadata": {},
   "outputs": [],
   "source": [
    "hull_min_bound = hull.get_min_bound()\n",
    "hull_max_bound = hull.get_max_bound()"
   ]
  },
  {
   "cell_type": "code",
   "execution_count": 96,
   "metadata": {},
   "outputs": [],
   "source": [
    "hull_min_bound[2] = min_bounds[2] #reset z-axis to include objects on road\n",
    "hull_max_bound[2] = max_bounds[2]"
   ]
  },
  {
   "cell_type": "code",
   "execution_count": 97,
   "metadata": {},
   "outputs": [],
   "source": [
    "road_bb = o3d.geometry.AxisAlignedBoundingBox(hull_min_bound, hull_max_bound)"
   ]
  },
  {
   "cell_type": "code",
   "execution_count": 98,
   "metadata": {},
   "outputs": [],
   "source": [
    "bb_cropped_pcd = cropped_pcd.crop(road_bb)"
   ]
  },
  {
   "cell_type": "code",
   "execution_count": 99,
   "metadata": {},
   "outputs": [],
   "source": [
    "o3d.visualization.draw_geometries([bb_cropped_pcd, hull], window_name=\"LiDAR PC after bb convex hull (road) cropping\")"
   ]
  },
  {
   "cell_type": "code",
   "execution_count": 100,
   "metadata": {},
   "outputs": [],
   "source": [
    "# from scipy.spatial import ConvexHull, convex_hull_plot_2d\n",
    "# hull = ConvexHull(np.asarray(flatten_pcd(cropped_road).points)[:,:-1])"
   ]
  },
  {
   "cell_type": "code",
   "execution_count": 101,
   "metadata": {},
   "outputs": [],
   "source": [
    "# hull_points = np.c_[hull.points, np.zeros(hull.points.shape[0])]\n",
    "# hull_points"
   ]
  },
  {
   "cell_type": "code",
   "execution_count": 102,
   "metadata": {},
   "outputs": [],
   "source": [
    "convex_poly = o3d.visualization.SelectionPolygonVolume()\n",
    "convex_poly.orthogonal_axis = \"Z\"\n",
    "convex_poly.axis_max = max_bounds[2]\n",
    "convex_poly.axis_min = min_bounds[2]\n",
    "convex_poly.bounding_polygon = o3d.utility.Vector3dVector(hull_points)"
   ]
  },
  {
   "cell_type": "code",
   "execution_count": 103,
   "metadata": {},
   "outputs": [
    {
     "data": {
      "text/plain": [
       "(5.342376708984375, -1.4419784545898438)"
      ]
     },
     "execution_count": 103,
     "metadata": {},
     "output_type": "execute_result"
    }
   ],
   "source": [
    "convex_poly.axis_max, convex_poly.axis_min"
   ]
  },
  {
   "cell_type": "code",
   "execution_count": 104,
   "metadata": {},
   "outputs": [
    {
     "data": {
      "text/plain": [
       "(array([ 2.44140625e-04, -7.44765625e+01, -1.44197845e+00]),\n",
       " array([76.21533203, 74.640625  ,  5.10532379]))"
      ]
     },
     "execution_count": 104,
     "metadata": {},
     "output_type": "execute_result"
    }
   ],
   "source": [
    "cropped_pcd.get_min_bound(), cropped_pcd.get_max_bound()"
   ]
  },
  {
   "cell_type": "code",
   "execution_count": 105,
   "metadata": {},
   "outputs": [
    {
     "data": {
      "text/plain": [
       "array([[ 68.78027344, -23.44726562,   0.        ],\n",
       "       [ 68.66992188, -23.58691406,   0.        ],\n",
       "       [ 68.66943359, -23.765625  ,   0.        ],\n",
       "       [ 70.17675781, -18.40625   ,   0.        ],\n",
       "       [ 62.76733398, -13.35009766,   0.        ],\n",
       "       [ 54.49609375, -19.74121094,   0.        ],\n",
       "       [ 68.18261719,   5.78613281,   0.        ],\n",
       "       [ 68.50585938,   5.65380859,   0.        ],\n",
       "       [ 68.72363281,   5.51074219,   0.        ],\n",
       "       [ 54.36474609, -24.54248047,   0.        ],\n",
       "       [ 73.68725586,   2.47851562,   0.        ],\n",
       "       [ 68.53540039, -12.95751953,   0.        ],\n",
       "       [ 46.61083984,  -1.34130859,   0.        ],\n",
       "       [ 66.76098633, -10.53759766,   0.        ],\n",
       "       [ 54.38623047, -23.79736328,   0.        ],\n",
       "       [ 54.22875977, -23.87646484,   0.        ],\n",
       "       [ 53.15283203, -23.98046875,   0.        ],\n",
       "       [ 66.26489258,  24.70068359,   0.        ],\n",
       "       [ 70.51025391,  24.45556641,   0.        ],\n",
       "       [ 72.5090332 ,  23.65478516,   0.        ],\n",
       "       [ 73.73339844,  17.19335938,   0.        ],\n",
       "       [ 62.81469727,  24.89941406,   0.        ],\n",
       "       [ 63.26489258,  24.91113281,   0.        ],\n",
       "       [ 64.05200195,  24.8828125 ,   0.        ],\n",
       "       [ 64.41577148,  24.85498047,   0.        ],\n",
       "       [ 65.84179688,  24.71240234,   0.        ],\n",
       "       [ 66.13549805,  24.64941406,   0.        ],\n",
       "       [ 71.14404297,  22.28369141,   0.        ],\n",
       "       [ 71.33666992,  22.16210938,   0.        ],\n",
       "       [ 71.37841797,  21.99267578,   0.        ],\n",
       "       [ 70.80297852,  18.59619141,   0.        ],\n",
       "       [ 70.43579102,  17.27490234,   0.        ],\n",
       "       [ 58.15405273,  -8.73730469,   0.        ],\n",
       "       [ 49.60668945, -19.76025391,   0.        ],\n",
       "       [ 60.9519043 ,  24.97412109,   0.        ],\n",
       "       [ 65.40307617,  22.13769531,   0.        ],\n",
       "       [ 47.9284668 , -16.18310547,   0.        ],\n",
       "       [ 56.29370117,  22.86181641,   0.        ],\n",
       "       [ 58.0168457 ,  22.48388672,   0.        ],\n",
       "       [ 58.52124023,  22.37060547,   0.        ],\n",
       "       [ 59.04663086,  17.21533203,   0.        ],\n",
       "       [ 32.25170898,  -4.59277344,   0.        ],\n",
       "       [ 36.86474609,  14.57324219,   0.        ],\n",
       "       [ 31.77416992,  12.56640625,   0.        ],\n",
       "       [ 25.05175781,  11.05908203,   0.        ],\n",
       "       [ 23.79711914,  10.47021484,   0.        ],\n",
       "       [ 22.46777344,   9.8515625 ,   0.        ],\n",
       "       [ 19.87280273,   8.64013672,   0.        ],\n",
       "       [ 18.85668945,   8.15625   ,   0.        ],\n",
       "       [ 12.99829102,  -4.33740234,   0.        ],\n",
       "       [ 10.66015625,   4.29589844,   0.        ],\n",
       "       [  9.69262695,   3.82910156,   0.        ],\n",
       "       [  9.02099609,   3.52099609,   0.        ],\n",
       "       [  9.05273438,   3.46875   ,   0.        ],\n",
       "       [  8.69946289,   3.36279297,   0.        ],\n",
       "       [  8.70068359,   3.32128906,   0.        ],\n",
       "       [  8.42431641,   3.23779297,   0.        ],\n",
       "       [  8.17724609,   3.08984375,   0.        ],\n",
       "       [  8.17504883,   3.06884766,   0.        ],\n",
       "       [ 68.73657227, -24.32861328,   0.        ],\n",
       "       [ 70.34570312, -21.99462891,   0.        ],\n",
       "       [ 70.36401367, -22.72070312,   0.        ],\n",
       "       [ 70.40258789, -25.29443359,   0.        ],\n",
       "       [ 65.11889648, -27.54589844,   0.        ],\n",
       "       [ 56.75463867, -25.64746094,   0.        ],\n",
       "       [ 70.30151367, -23.06738281,   0.        ],\n",
       "       [ 44.16796875, -19.203125  ,   0.        ],\n",
       "       [ 10.76519775,   3.02813911,   0.        ],\n",
       "       [  8.67538071,   2.14296031,   0.        ],\n",
       "       [ 14.39584064,   4.95008659,   0.        ],\n",
       "       [  8.52023125,   2.62322998,   0.        ],\n",
       "       [  4.93892908,  -6.94941807,   0.        ]])"
      ]
     },
     "execution_count": 105,
     "metadata": {},
     "output_type": "execute_result"
    }
   ],
   "source": [
    "np.asarray(convex_poly.bounding_polygon)"
   ]
  },
  {
   "cell_type": "code",
   "execution_count": 106,
   "metadata": {},
   "outputs": [],
   "source": [
    "def flatten_pcd(pcd):\n",
    "    flattened_pcd = copy.deepcopy(pcd)\n",
    "    points = np.asarray(flattened_pcd.points)\n",
    "    points[:,2] = 0\n",
    "    flattened_pcd.points = o3d.utility.Vector3dVector(points)\n",
    "    return flattened_pcd"
   ]
  },
  {
   "cell_type": "code",
   "execution_count": 107,
   "metadata": {},
   "outputs": [],
   "source": [
    "convex_cropped_pcd = convex_poly.crop_point_cloud(flatten_pcd(cropped_pcd))\n"
   ]
  },
  {
   "cell_type": "code",
   "execution_count": 108,
   "metadata": {},
   "outputs": [],
   "source": [
    "convex_cropped_pcd.paint_uniform_color([0.5, 0, 0])\n",
    "o3d.visualization.draw_geometries([pcd, convex_cropped_pcd, hull_ls], window_name=\"LiDAR PC after bb convex hull (road) cropping\")"
   ]
  },
  {
   "cell_type": "markdown",
   "metadata": {},
   "source": [
    "## Point Cloud distance road objects and ground removal"
   ]
  },
  {
   "cell_type": "code",
   "execution_count": 109,
   "metadata": {},
   "outputs": [],
   "source": [
    "o3d.visualization.draw_geometries([flatten_pcd(convex_cropped_pcd)], window_name=\"Flattened convex cropped PC\")"
   ]
  },
  {
   "cell_type": "code",
   "execution_count": 110,
   "metadata": {},
   "outputs": [],
   "source": [
    "distances = np.asarray(flatten_pcd(convex_cropped_pcd).compute_point_cloud_distance(flatten_pcd(cropped_road)))"
   ]
  },
  {
   "cell_type": "code",
   "execution_count": 111,
   "metadata": {},
   "outputs": [],
   "source": [
    "DISTANCE_OFFSET = 0.2"
   ]
  },
  {
   "cell_type": "code",
   "execution_count": 112,
   "metadata": {},
   "outputs": [],
   "source": [
    "pc_on_road = convex_cropped_pcd.select_by_index(np.argwhere((distances < DISTANCE_OFFSET) & (distances > 0)))"
   ]
  },
  {
   "cell_type": "code",
   "execution_count": 113,
   "metadata": {},
   "outputs": [],
   "source": [
    "o3d.visualization.draw_geometries([pc_on_road], window_name=\"Convex cropped PC on road based on distance to front view cropped road\")"
   ]
  },
  {
   "cell_type": "code",
   "execution_count": 114,
   "metadata": {},
   "outputs": [],
   "source": [
    "def distance_filter(pcd, filter_pcd, offset=0.2, invert=False):\n",
    "    distances = np.asarray(flatten_pcd(pcd).compute_point_cloud_distance(flatten_pcd(filter_pcd)))\n",
    "    return pcd.select_by_index(np.argwhere(distances <= offset), invert=invert)"
   ]
  },
  {
   "cell_type": "markdown",
   "metadata": {},
   "source": [
    "## Ground removal"
   ]
  },
  {
   "cell_type": "code",
   "execution_count": 115,
   "metadata": {},
   "outputs": [
    {
     "name": "stdout",
     "output_type": "stream",
     "text": [
      "Plane equation: -0.00x + -0.00y + 1.00z + -0.00 = 0\n"
     ]
    }
   ],
   "source": [
    "ground_model, ground_mask = convex_cropped_pcd.segment_plane(distance_threshold=0.5,\n",
    "                                         ransac_n=20,\n",
    "                                         num_iterations=500)\n",
    "[a, b, c, d] = ground_model\n",
    "print(f\"Plane equation: {a:.2f}x + {b:.2f}y + {c:.2f}z + {d:.2f} = 0\")"
   ]
  },
  {
   "cell_type": "code",
   "execution_count": 116,
   "metadata": {},
   "outputs": [
    {
     "name": "stdout",
     "output_type": "stream",
     "text": [
      "Showing outliers (red) and inliers (gray): \n"
     ]
    }
   ],
   "source": [
    "display_inlier_outlier(convex_cropped_pcd, ground_mask, window_name=\"Ground of convex cropped pcd\")"
   ]
  },
  {
   "cell_type": "code",
   "execution_count": 117,
   "metadata": {},
   "outputs": [],
   "source": [
    "pc_on_road = convex_cropped_pcd.select_by_index(ground_mask, invert=True)\n",
    "ground = convex_cropped_pcd.select_by_index(ground_mask)"
   ]
  },
  {
   "cell_type": "code",
   "execution_count": 118,
   "metadata": {},
   "outputs": [],
   "source": [
    "o3d.visualization.draw_geometries([pc_on_road], window_name=\"Convex cropped PC without estimated ground\")"
   ]
  },
  {
   "cell_type": "markdown",
   "metadata": {},
   "source": [
    "## Clustering"
   ]
  },
  {
   "cell_type": "code",
   "execution_count": 119,
   "metadata": {},
   "outputs": [],
   "source": [
    "if len(pc_on_road.points) > 0:\n",
    "    with o3d.utility.VerbosityContextManager(\n",
    "            o3d.utility.VerbosityLevel.Debug) as cm:\n",
    "        labels = np.array(\n",
    "            pc_on_road.cluster_dbscan(eps=1, min_points=50, print_progress=True))\n",
    "\n",
    "    max_label = labels.max()\n",
    "    print(f\"point cloud has {max_label + 1} clusters\")\n",
    "    colors = plt.get_cmap(\"tab20\")(labels / (max_label if max_label > 0 else 1))\n",
    "    colors[labels < 0] = 0\n",
    "    pc_on_road.colors = o3d.utility.Vector3dVector(colors[:, :3])\n",
    "else:\n",
    "    labels = np.array([])"
   ]
  },
  {
   "cell_type": "code",
   "execution_count": 120,
   "metadata": {},
   "outputs": [],
   "source": [
    "clustered_obj = pc_on_road.select_by_index(np.argwhere(labels >= 0)) #remove outliers"
   ]
  },
  {
   "cell_type": "code",
   "execution_count": 121,
   "metadata": {},
   "outputs": [
    {
     "data": {
      "text/plain": [
       "PointCloud with 12585 points."
      ]
     },
     "execution_count": 121,
     "metadata": {},
     "output_type": "execute_result"
    }
   ],
   "source": [
    "cropped_road.paint_uniform_color([.6,.6,.6])"
   ]
  },
  {
   "cell_type": "code",
   "execution_count": 122,
   "metadata": {},
   "outputs": [],
   "source": [
    "o3d.visualization.draw_geometries([clustered_obj, cropped_road], window_name=\"Clustered objects on road without ground and within convex road\") "
   ]
  },
  {
   "cell_type": "markdown",
   "metadata": {},
   "source": [
    "## Mesh calculation"
   ]
  },
  {
   "cell_type": "code",
   "execution_count": 123,
   "metadata": {},
   "outputs": [],
   "source": [
    "# cropped_road.estimate_normals()\n",
    "\n",
    "# # estimate radius for rolling ball\n",
    "# distances = cropped_road.compute_nearest_neighbor_distance()\n",
    "# avg_dist = np.mean(distances)\n",
    "# radius = 1.5 * avg_dist   \n",
    "\n",
    "# mesh = o3d.geometry.TriangleMesh.create_from_point_cloud_ball_pivoting(\n",
    "#            cropped_road,\n",
    "#            o3d.utility.DoubleVector([radius, radius * 2]))\n",
    "\n",
    "# # create the triangular mesh with the vertices and faces from open3d\n",
    "# tri_mesh = trimesh.Trimesh(np.asarray(mesh.vertices), np.asarray(mesh.triangles),\n",
    "#                           vertex_normals=np.asarray(mesh.vertex_normals))\n",
    "\n",
    "# trimesh.convex.is_convex(tri_mesh)"
   ]
  },
  {
   "cell_type": "markdown",
   "metadata": {},
   "source": [
    "## Voxel downsampling"
   ]
  },
  {
   "cell_type": "code",
   "execution_count": 124,
   "metadata": {},
   "outputs": [],
   "source": [
    "downsampled_cropped_road = cropped_road.voxel_down_sample(voxel_size=0.5)"
   ]
  },
  {
   "cell_type": "code",
   "execution_count": 125,
   "metadata": {},
   "outputs": [
    {
     "data": {
      "text/plain": [
       "PointCloud with 1667 points."
      ]
     },
     "execution_count": 125,
     "metadata": {},
     "output_type": "execute_result"
    }
   ],
   "source": [
    "#downsampled_cropped_road = cropped_road.random_down_sample(0.1)\n",
    "downsampled_cropped_road"
   ]
  },
  {
   "cell_type": "code",
   "execution_count": 126,
   "metadata": {},
   "outputs": [],
   "source": [
    "o3d.visualization.draw_geometries([downsampled_cropped_road], window_name=\"Voxel downsampled and front view cropped road\")"
   ]
  },
  {
   "cell_type": "markdown",
   "metadata": {},
   "source": [
    "## PolyLiDAR"
   ]
  },
  {
   "cell_type": "markdown",
   "metadata": {},
   "source": [
    "## Concave hull "
   ]
  },
  {
   "cell_type": "markdown",
   "metadata": {},
   "source": [
    "import alphashape\n",
    "from descartes import PolygonPatch\n",
    "\n",
    "points = np.delete(downsampled_cropped_road.points, -1, axis=1)\n",
    "\n",
    "alpha = 0.95 * alphashape.optimizealpha(points)\n",
    "hull = alphashape.alphashape(points, alpha)\n",
    "hull_pts = hull.exterior.coords.xy"
   ]
  },
  {
   "cell_type": "markdown",
   "metadata": {},
   "source": [
    "fig, ax = plt.subplots()\n",
    "ax.scatter(hull_pts[0], hull_pts[1], color='red')\n",
    "ax.add_patch(PolygonPatch(hull, fill=True, color='green'))"
   ]
  },
  {
   "cell_type": "markdown",
   "metadata": {},
   "source": [
    "from shapely.geometry import Point"
   ]
  },
  {
   "cell_type": "markdown",
   "metadata": {},
   "source": [
    "alpha_shape = alphashape.alphashape(np.column_stack(hull_pts), 0)"
   ]
  },
  {
   "cell_type": "markdown",
   "metadata": {},
   "source": [
    "in_hull_mask = np.array([alpha_shape.contains(Point(point[0],point[1])) for point in cropped_pcd.points])"
   ]
  },
  {
   "cell_type": "markdown",
   "metadata": {},
   "source": [
    "cropped_road.paint_uniform_color([0.6,0.6,0.6])"
   ]
  },
  {
   "cell_type": "markdown",
   "metadata": {},
   "source": [
    "cropped_pcd.select_by_index(np.argwhere(in_hull_mask))"
   ]
  },
  {
   "cell_type": "markdown",
   "metadata": {},
   "source": [
    "o3d.visualization.draw_geometries([cropped_pcd.select_by_index(np.argwhere(in_hull_mask)), cropped_road])"
   ]
  },
  {
   "cell_type": "markdown",
   "metadata": {},
   "source": [
    "## Alphashape surface reconstruction"
   ]
  },
  {
   "cell_type": "code",
   "execution_count": 127,
   "metadata": {},
   "outputs": [
    {
     "name": "stdout",
     "output_type": "stream",
     "text": [
      "alpha=10.000\n"
     ]
    }
   ],
   "source": [
    "alpha = 10\n",
    "print(f\"alpha={alpha:.3f}\")\n",
    "downsampled_cropped_road.paint_uniform_color([0.6,0.6,0.6])\n",
    "road_mesh = o3d.geometry.TriangleMesh.create_from_point_cloud_alpha_shape(downsampled_cropped_road, alpha)"
   ]
  },
  {
   "cell_type": "code",
   "execution_count": 128,
   "metadata": {},
   "outputs": [],
   "source": [
    "road_mesh.orient_triangles()\n",
    "o3d.visualization.draw_geometries([road_mesh], mesh_show_back_face=True, window_name=\"Alphashape of downsampled, front view cropped road\")"
   ]
  },
  {
   "cell_type": "code",
   "execution_count": 129,
   "metadata": {},
   "outputs": [
    {
     "data": {
      "text/plain": [
       "PointCloud with 12585 points."
      ]
     },
     "execution_count": 129,
     "metadata": {},
     "output_type": "execute_result"
    }
   ],
   "source": [
    "cropped_road.paint_uniform_color([1,0,0])"
   ]
  },
  {
   "cell_type": "code",
   "execution_count": 130,
   "metadata": {},
   "outputs": [
    {
     "data": {
      "text/plain": [
       "False"
      ]
     },
     "execution_count": 130,
     "metadata": {},
     "output_type": "execute_result"
    }
   ],
   "source": [
    "road_mesh.is_watertight()"
   ]
  },
  {
   "cell_type": "code",
   "execution_count": 131,
   "metadata": {},
   "outputs": [],
   "source": [
    "vertices = np.asarray(copy.deepcopy(road_mesh.vertices)) #flatten road mesh\n",
    "vertices[:,2] = 0\n",
    "flattend_road_mesh = copy.deepcopy(road_mesh)\n",
    "flattend_road_mesh.vertices = o3d.utility.Vector3dVector(vertices)"
   ]
  },
  {
   "cell_type": "code",
   "execution_count": 132,
   "metadata": {},
   "outputs": [],
   "source": [
    "o3d.visualization.draw_geometries([road_mesh, flatten_pcd(cropped_road)], mesh_show_back_face=True, window_name=\"Comparison of flattened road points and alphashape\")"
   ]
  },
  {
   "cell_type": "code",
   "execution_count": 133,
   "metadata": {},
   "outputs": [],
   "source": [
    "# Create a scene and add the triangle mesh\n",
    "scene = o3d.t.geometry.RaycastingScene()\n",
    "flattend_road_mesh = o3d.t.geometry.TriangleMesh.from_legacy(flattend_road_mesh)\n",
    "_ = scene.add_triangles(flattend_road_mesh)  # we do not need the geometry ID for mesh"
   ]
  },
  {
   "cell_type": "code",
   "execution_count": 134,
   "metadata": {},
   "outputs": [],
   "source": [
    "def compute_signed_distance_and_closest_goemetry(query_points: np.ndarray):\n",
    "    closest_points = scene.compute_closest_points(query_points)\n",
    "    distance = np.linalg.norm(query_points - closest_points['points'].numpy(),\n",
    "                              axis=-1)\n",
    "    rays = np.concatenate([query_points, np.ones_like(query_points)], axis=-1)\n",
    "    intersection_counts = scene.count_intersections(rays).numpy()\n",
    "    is_inside = intersection_counts % 2 == 1\n",
    "    distance[is_inside] *= -1\n",
    "    return distance, closest_points['geometry_ids'].numpy()"
   ]
  },
  {
   "cell_type": "code",
   "execution_count": 135,
   "metadata": {},
   "outputs": [],
   "source": [
    "distance, closest_points = compute_signed_distance_and_closest_goemetry(np.asarray(flatten_pcd(cropped_pcd).points, dtype=np.float32))"
   ]
  },
  {
   "cell_type": "code",
   "execution_count": 136,
   "metadata": {},
   "outputs": [
    {
     "data": {
      "text/plain": [
       "(80697, (80697,), (80697,))"
      ]
     },
     "execution_count": 136,
     "metadata": {},
     "output_type": "execute_result"
    }
   ],
   "source": [
    "len(cropped_pcd.points), distance.shape, closest_points.shape"
   ]
  },
  {
   "cell_type": "code",
   "execution_count": 137,
   "metadata": {},
   "outputs": [],
   "source": [
    "on_road_indices =  np.argwhere(distance < 0.0000001)\n",
    "pc_on_road = cropped_pcd.select_by_index(on_road_indices)"
   ]
  },
  {
   "cell_type": "code",
   "execution_count": 138,
   "metadata": {},
   "outputs": [],
   "source": [
    "o3d.visualization.draw_geometries([pc_on_road], window_name= \"PC on alphashape estimated road\")"
   ]
  },
  {
   "cell_type": "markdown",
   "metadata": {},
   "source": [
    "## Ground removal"
   ]
  },
  {
   "cell_type": "code",
   "execution_count": 139,
   "metadata": {},
   "outputs": [
    {
     "name": "stdout",
     "output_type": "stream",
     "text": [
      "Plane equation: -0.00x + 0.02y + 1.00z + 0.06 = 0\n"
     ]
    }
   ],
   "source": [
    "ground_model, ground_mask = pc_on_road.segment_plane(distance_threshold=0.2,\n",
    "                                         ransac_n=10,\n",
    "                                         num_iterations=300)\n",
    "[a, b, c, d] = ground_model\n",
    "print(f\"Plane equation: {a:.2f}x + {b:.2f}y + {c:.2f}z + {d:.2f} = 0\")"
   ]
  },
  {
   "cell_type": "code",
   "execution_count": 140,
   "metadata": {},
   "outputs": [
    {
     "name": "stdout",
     "output_type": "stream",
     "text": [
      "Showing outliers (red) and inliers (gray): \n"
     ]
    }
   ],
   "source": [
    "display_inlier_outlier(pc_on_road, ground_mask, window_name=\"Ground removal of PC within road boundaries\")"
   ]
  },
  {
   "cell_type": "code",
   "execution_count": 141,
   "metadata": {},
   "outputs": [],
   "source": [
    "pc_without_ground = pc_on_road.select_by_index(ground_mask, invert=True)\n",
    "ground = pc_on_road.select_by_index(ground_mask)"
   ]
  },
  {
   "cell_type": "code",
   "execution_count": 142,
   "metadata": {},
   "outputs": [],
   "source": [
    "distances = np.asarray(flatten_pcd(pc_without_ground).compute_point_cloud_distance(flatten_pcd(cropped_road)))"
   ]
  },
  {
   "cell_type": "code",
   "execution_count": 143,
   "metadata": {},
   "outputs": [],
   "source": [
    "DISTANCE_OFFSET = 0\n",
    "pc_without_road = pc_without_ground.select_by_index(np.argwhere((distances <= DISTANCE_OFFSET)), invert=True)"
   ]
  },
  {
   "cell_type": "code",
   "execution_count": 144,
   "metadata": {},
   "outputs": [],
   "source": [
    "pc_without_road.paint_uniform_color([1,0,0])\n",
    "pc_without_ground.paint_uniform_color([0.5,.5,.5])\n",
    "o3d.visualization.draw_geometries([pc_without_ground, pc_without_road], window_name=\"Comparison without ground and without road\")"
   ]
  },
  {
   "cell_type": "code",
   "execution_count": 145,
   "metadata": {},
   "outputs": [],
   "source": [
    "cropped_road.paint_uniform_color([0.3,0.3,0.3])\n",
    "o3d.visualization.draw_geometries([cropped_road, pc_without_road], window_name=\"Cropped road and PC without road & ground\")"
   ]
  },
  {
   "cell_type": "code",
   "execution_count": 146,
   "metadata": {},
   "outputs": [
    {
     "data": {
      "text/plain": [
       "3103"
      ]
     },
     "execution_count": 146,
     "metadata": {},
     "output_type": "execute_result"
    }
   ],
   "source": [
    "len(pc_without_road.points)"
   ]
  },
  {
   "cell_type": "markdown",
   "metadata": {},
   "source": [
    "## Clustering"
   ]
  },
  {
   "cell_type": "code",
   "execution_count": 147,
   "metadata": {},
   "outputs": [
    {
     "name": "stdout",
     "output_type": "stream",
     "text": [
      "[Open3D DEBUG] Precompute neighbors.\n",
      "Precompute neighbors.[================>                       ] 37%                                    ] 5%\n",
      "[Open3D DEBUG] Compute Clusters\n",
      "Precompute neighbors.[========================================] 100%\n",
      "[Open3D DEBUG] Done Compute Clusters: 8            ] 2%\n",
      "point cloud has 8 clusters====================>    ] 87%\n"
     ]
    }
   ],
   "source": [
    "if len(pc_without_road.points) > 0:\n",
    "    with o3d.utility.VerbosityContextManager(\n",
    "            o3d.utility.VerbosityLevel.Debug) as cm:\n",
    "        labels = np.array(\n",
    "            pc_without_road.cluster_dbscan(eps=1, min_points=30, print_progress=True))\n",
    "\n",
    "    max_label = labels.max()\n",
    "    print(f\"point cloud has {max_label + 1} clusters\")\n",
    "    colors = plt.get_cmap(\"tab20b\")(labels / (max_label if max_label > 0 else 1))\n",
    "    colors[labels < 0] = 0\n",
    "    pc_without_road.colors = o3d.utility.Vector3dVector(colors[:, :3])\n",
    "else: \n",
    "    labels = np.array([])"
   ]
  },
  {
   "cell_type": "code",
   "execution_count": 148,
   "metadata": {},
   "outputs": [],
   "source": [
    "cluster_labels = labels[np.argwhere(labels >= 0)] \n",
    "clustered_obj = pc_without_road.select_by_index(np.argwhere(labels >= 0))"
   ]
  },
  {
   "cell_type": "code",
   "execution_count": 149,
   "metadata": {},
   "outputs": [],
   "source": [
    "o3d.visualization.draw_geometries([clustered_obj], window_name=\"Clustered object on alhphashape road without ground & ground prediction\")"
   ]
  },
  {
   "cell_type": "code",
   "execution_count": 150,
   "metadata": {},
   "outputs": [
    {
     "data": {
      "text/plain": [
       "TriangleMesh with 1420 points and 3224 triangles."
      ]
     },
     "execution_count": 150,
     "metadata": {},
     "output_type": "execute_result"
    }
   ],
   "source": [
    "vertices = np.asarray(copy.deepcopy(road_mesh.vertices)) #flatten road mesh\n",
    "vertices[:,2] -= 1\n",
    "shifted_road_mesh = copy.deepcopy(road_mesh)\n",
    "shifted_road_mesh.vertices = o3d.utility.Vector3dVector(vertices)\n",
    "shifted_road_mesh.paint_uniform_color([0.9, 0.9,0.9])"
   ]
  },
  {
   "cell_type": "code",
   "execution_count": 151,
   "metadata": {},
   "outputs": [],
   "source": [
    "pcd.paint_uniform_color([0.8,0.8,0.8])\n",
    "o3d.visualization.draw_geometries([ pcd, cropped_road, clustered_obj], width=3072, height=1920, window_name=\"Result: Clusters on road ahead\")"
   ]
  },
  {
   "cell_type": "code",
   "execution_count": 152,
   "metadata": {},
   "outputs": [
    {
     "data": {
      "text/plain": [
       "(2731, 4)"
      ]
     },
     "execution_count": 152,
     "metadata": {},
     "output_type": "execute_result"
    }
   ],
   "source": [
    "clusters = np.hstack((np.asarray(clustered_obj.points), cluster_labels))\n",
    "clusters.shape"
   ]
  },
  {
   "cell_type": "code",
   "execution_count": 153,
   "metadata": {},
   "outputs": [
    {
     "data": {
      "text/plain": [
       "array([[ 55.21484375, -13.83984375,   4.10257721,   0.        ,\n",
       "         -1.        ],\n",
       "       [ 55.22167969, -13.9765625 ,   4.10461426,   0.        ,\n",
       "         -1.        ],\n",
       "       [ 55.02026367, -14.33105469,   4.10283661,   0.        ,\n",
       "         -1.        ],\n",
       "       ...,\n",
       "       [ 13.07663059,  -3.81503773,   0.44700998,   7.        ,\n",
       "         -1.        ],\n",
       "       [ 13.0859642 ,  -2.94334888,   0.36902636,   7.        ,\n",
       "         -1.        ],\n",
       "       [ 13.05995464,  -3.80804634,   0.34077984,   7.        ,\n",
       "         -1.        ]])"
      ]
     },
     "execution_count": 153,
     "metadata": {},
     "output_type": "execute_result"
    }
   ],
   "source": [
    "labeled_clusters= np.c_[clusters, -np.ones(clusters.shape[0])]\n",
    "labeled_clusters"
   ]
  },
  {
   "cell_type": "markdown",
   "metadata": {},
   "source": [
    "## Create AABBs"
   ]
  },
  {
   "cell_type": "code",
   "execution_count": 154,
   "metadata": {},
   "outputs": [],
   "source": [
    "sorted_clusters = clusters[clusters[:,-1].argsort()]"
   ]
  },
  {
   "cell_type": "code",
   "execution_count": 155,
   "metadata": {},
   "outputs": [],
   "source": [
    "cluster_list = np.split(sorted_clusters[:,:-1], np.unique(sorted_clusters[:,-1], return_index=True)[1][1:])"
   ]
  },
  {
   "cell_type": "code",
   "execution_count": 156,
   "metadata": {},
   "outputs": [
    {
     "data": {
      "text/plain": [
       "array([[47.65600586, -3.45703125,  0.92795563],\n",
       "       [47.67553711, -3.67822266,  0.92784119],\n",
       "       [47.6784668 , -3.12841797,  0.92665863],\n",
       "       [47.92553711, -2.92382812,  0.91945648],\n",
       "       [48.70776367, -2.97558594,  0.30427551],\n",
       "       [47.67895508, -3.78857422,  0.92795563],\n",
       "       [47.6875    , -3.89990234,  0.92790985],\n",
       "       [47.67871094, -4.00878906,  0.92832947],\n",
       "       [47.67211914, -3.56835938,  0.92772675],\n",
       "       [47.65991211, -3.23681641,  0.92740631],\n",
       "       [47.68164062, -4.01123047,  0.77368927],\n",
       "       [48.19873047, -3.83349609,  0.47493744],\n",
       "       [47.69726562, -4.78271484,  1.33036804],\n",
       "       [47.70214844, -4.67285156,  1.33003235],\n",
       "       [47.56835938, -3.77978516,  0.65014648],\n",
       "       [47.5300293 , -3.66796875,  0.65128326],\n",
       "       [47.57324219, -3.56152344,  0.64969635],\n",
       "       [47.52270508, -3.44775391,  0.65120697],\n",
       "       [47.61206055, -3.34472656,  0.64806366],\n",
       "       [47.60766602, -3.234375  ,  0.64801788],\n",
       "       [47.6262207 , -3.12548828,  0.6472168 ],\n",
       "       [48.27563477, -3.05859375,  0.6253891 ],\n",
       "       [49.17602539, -3.00341797,  0.59519196],\n",
       "       [47.7043457 , -4.12158203,  0.9278183 ],\n",
       "       [47.62841797, -3.56591797,  0.77465057],\n",
       "       [48.37426758, -3.06640625,  0.31771088],\n",
       "       [47.52539062, -3.44873047,  0.77761078],\n",
       "       [47.59838867, -3.23388672,  0.77498627],\n",
       "       [47.59399414, -3.12402344,  0.77493286],\n",
       "       [47.68261719, -3.02001953,  0.77201843],\n",
       "       [49.09667969, -2.99902344,  0.72856903],\n",
       "       [47.7019043 , -3.68164062,  0.77257538],\n",
       "       [47.78100586, -3.79882812,  0.77033234],\n",
       "       [47.59716797, -3.89306641,  0.77610779],\n",
       "       [49.0012207 , -2.99365234,  0.44435883],\n",
       "       [48.33447266, -3.06347656,  0.46895599],\n",
       "       [48.31591797, -3.17333984,  0.46980286],\n",
       "       [48.59692383, -3.52978516,  0.4599762 ],\n",
       "       [48.64160156, -3.64550781,  0.45848846],\n",
       "       [48.35302734, -3.734375  ,  0.46916962],\n",
       "       [47.52685547, -3.33886719,  0.77737427],\n",
       "       [47.67041016, -4.33837891,  1.20580292],\n",
       "       [46.88378906, -4.05078125,  0.52336121],\n",
       "       [47.66503906, -3.89648438,  1.32892609],\n",
       "       [47.63525391, -4.00585938,  1.07066345],\n",
       "       [47.62670898, -3.89453125,  1.07064056],\n",
       "       [47.62963867, -3.78466797,  1.07035828],\n",
       "       [47.62036133, -3.67382812,  1.07035828],\n",
       "       [47.63061523, -3.45507812,  1.06964874],\n",
       "       [47.62646484, -3.34472656,  1.06951141],\n",
       "       [47.62231445, -3.23486328,  1.06937408],\n",
       "       [47.96655273, -3.03564453,  1.32108307],\n",
       "       [47.64990234, -3.12548828,  1.32726288],\n",
       "       [47.66625977, -3.23632812,  1.32724762],\n",
       "       [47.68237305, -3.34765625,  1.32722473],\n",
       "       [47.67480469, -3.45703125,  1.32764435],\n",
       "       [47.67871094, -3.56738281,  1.32785797],\n",
       "       [47.67041016, -3.67675781,  1.32828522],\n",
       "       [47.66772461, -3.78662109,  1.32860565],\n",
       "       [47.63500977, -3.125     ,  1.06880188],\n",
       "       [47.671875  , -4.55908203,  1.33034515],\n",
       "       [47.68188477, -4.45019531,  1.32991028],\n",
       "       [47.68603516, -4.33984375,  1.32957458],\n",
       "       [47.6784668 , -4.22851562,  1.32946777],\n",
       "       [47.70532227, -4.12060547,  1.32871246],\n",
       "       [47.66210938, -4.00683594,  1.32925415],\n",
       "       [47.64770508, -3.01611328,  1.06825256],\n",
       "       [47.61450195, -4.11376953,  1.07136536],\n",
       "       [47.65161133, -4.22753906,  1.07067871],\n",
       "       [47.61694336, -3.56445312,  1.07020569],\n",
       "       [47.68188477, -3.01757812,  1.20252228],\n",
       "       [47.69726562, -3.23876953,  1.20274353],\n",
       "       [47.68383789, -3.34814453,  1.20328522],\n",
       "       [47.68212891, -3.45800781,  1.20359039],\n",
       "       [47.68579102, -3.56835938,  1.2037735 ],\n",
       "       [47.671875  , -3.67724609,  1.20431519],\n",
       "       [47.67529297, -3.78759766,  1.20449829],\n",
       "       [47.67993164, -4.22900391,  1.20536804],\n",
       "       [47.69873047, -3.12890625,  1.20244598],\n",
       "       [47.68920898, -4.11962891,  1.20493317],\n",
       "       [47.67797852, -3.89794922,  1.20468903],\n",
       "       [47.5012207 , -3.88427734,  0.65252686],\n",
       "       [47.72875977, -3.12939453,  1.46763611],\n",
       "       [47.67504883, -4.0078125 ,  1.20500183]])"
      ]
     },
     "execution_count": 156,
     "metadata": {},
     "output_type": "execute_result"
    }
   ],
   "source": [
    "cluster_list[3]"
   ]
  },
  {
   "cell_type": "code",
   "execution_count": 157,
   "metadata": {},
   "outputs": [],
   "source": [
    "cluster_bboxes = [o3d.geometry.AxisAlignedBoundingBox.create_from_points(o3d.utility.Vector3dVector(cluster)) for cluster in cluster_list]"
   ]
  },
  {
   "cell_type": "code",
   "execution_count": 158,
   "metadata": {},
   "outputs": [
    {
     "data": {
      "text/plain": [
       "[AxisAlignedBoundingBox: min: (53.6423, -24.6396, 0.533463), max: (56.562, -12.9565, 4.11474),\n",
       " AxisAlignedBoundingBox: min: (57.2004, -14.0854, 0.703117), max: (64.1772, -11.9731, 3.78047),\n",
       " AxisAlignedBoundingBox: min: (46.3843, -1.34814, 0.345856), max: (47.6956, 0.482422, 1.86856),\n",
       " AxisAlignedBoundingBox: min: (46.8838, -4.78271, 0.304276), max: (49.176, -2.92383, 1.46764),\n",
       " AxisAlignedBoundingBox: min: (62.187, 8.20117, 0.0645981), max: (63.6711, 10.1797, 1.33728),\n",
       " AxisAlignedBoundingBox: min: (31.7302, -4.49658, 0.284782), max: (34.8674, -2.6543, 1.59477),\n",
       " AxisAlignedBoundingBox: min: (29.5779, -7.7085, 1.00103), max: (31.9309, -6.23584, 1.57664),\n",
       " AxisAlignedBoundingBox: min: (12.6792, -4.41846, 0.262344), max: (16.5796, -2.65479, 1.75541)]"
      ]
     },
     "execution_count": 158,
     "metadata": {},
     "output_type": "execute_result"
    }
   ],
   "source": [
    "cluster_bboxes"
   ]
  },
  {
   "cell_type": "markdown",
   "metadata": {},
   "source": [
    "## Sanity check"
   ]
  },
  {
   "cell_type": "code",
   "execution_count": 159,
   "metadata": {},
   "outputs": [],
   "source": [
    "ON_ROAD_POINTS = 5"
   ]
  },
  {
   "cell_type": "code",
   "execution_count": 160,
   "metadata": {},
   "outputs": [
    {
     "data": {
      "text/plain": [
       "-0.0009998581406612647"
      ]
     },
     "execution_count": 160,
     "metadata": {},
     "output_type": "execute_result"
    }
   ],
   "source": [
    "road_z_mean = cropped_road.compute_mean_and_covariance()[0][2]\n",
    "road_z_mean "
   ]
  },
  {
   "cell_type": "code",
   "execution_count": 161,
   "metadata": {},
   "outputs": [
    {
     "name": "stdout",
     "output_type": "stream",
     "text": [
      "373\n",
      "15\n",
      "6\n",
      "7\n",
      "18\n",
      "153\n"
     ]
    }
   ],
   "source": [
    "assert len(cluster_bboxes) == len(cluster_list)\n",
    "checked_cluster_bboxes = []\n",
    "checked_cluster_list = []\n",
    "for i in range(len(cluster_bboxes)):\n",
    "    expanded_cluster_bbox = copy.deepcopy(cluster_bboxes[i])\n",
    "    bbox_z_center = expanded_cluster_bbox.get_center()[2]\n",
    "    expanded_cluster_bbox.translate(np.array([0, 0 , (road_z_mean - bbox_z_center)/2]))\n",
    "    if(len(expanded_cluster_bbox.get_point_indices_within_bounding_box(o3d.utility.Vector3dVector(cropped_road.points))) > ON_ROAD_POINTS):\n",
    "        print(len(expanded_cluster_bbox.get_point_indices_within_bounding_box(o3d.utility.Vector3dVector(cropped_road.points))))\n",
    "        checked_cluster_bboxes.append(cluster_bboxes[i])\n",
    "        checked_cluster_list.append(cluster_list[i])"
   ]
  },
  {
   "cell_type": "code",
   "execution_count": 163,
   "metadata": {},
   "outputs": [
    {
     "data": {
      "text/plain": [
       "[AxisAlignedBoundingBox: min: (53.6423, -24.6396, 0.533463), max: (56.562, -12.9565, 4.11474),\n",
       " AxisAlignedBoundingBox: min: (57.2004, -14.0854, 0.703117), max: (64.1772, -11.9731, 3.78047),\n",
       " AxisAlignedBoundingBox: min: (46.3843, -1.34814, 0.345856), max: (47.6956, 0.482422, 1.86856),\n",
       " AxisAlignedBoundingBox: min: (46.8838, -4.78271, 0.304276), max: (49.176, -2.92383, 1.46764),\n",
       " AxisAlignedBoundingBox: min: (31.7302, -4.49658, 0.284782), max: (34.8674, -2.6543, 1.59477),\n",
       " AxisAlignedBoundingBox: min: (12.6792, -4.41846, 0.262344), max: (16.5796, -2.65479, 1.75541)]"
      ]
     },
     "execution_count": 163,
     "metadata": {},
     "output_type": "execute_result"
    }
   ],
   "source": [
    "checked_cluster_bboxes"
   ]
  },
  {
   "cell_type": "code",
   "execution_count": 164,
   "metadata": {},
   "outputs": [
    {
     "data": {
      "text/plain": [
       "array([[ 55.10217285, -18.7980957 ,   2.32410049,   2.91967773,\n",
       "         11.68310547,   3.58127594],\n",
       "       [ 60.68884277, -13.02929688,   2.24179459,   6.97680664,\n",
       "          2.11230469,   3.07735443],\n",
       "       [ 47.03991699,  -0.43286133,   1.10720825,   1.3112793 ,\n",
       "          1.83056641,   1.52270508],\n",
       "       [ 48.02990723,  -3.85327148,   0.88595581,   2.29223633,\n",
       "          1.85888672,   1.1633606 ],\n",
       "       [ 33.29882812,  -3.57543945,   0.93977737,   3.13720703,\n",
       "          1.84228516,   1.30998993],\n",
       "       [ 14.62939453,  -3.53662109,   1.0088768 ,   3.90039062,\n",
       "          1.76367188,   1.49306488]])"
      ]
     },
     "execution_count": 164,
     "metadata": {},
     "output_type": "execute_result"
    }
   ],
   "source": [
    "cluster_bboxs_dims =[np.concatenate([cluster_bbox.get_center(), cluster_bbox.get_extent()]) for cluster_bbox in checked_cluster_bboxes]\n",
    "if len(cluster_bboxs_dims) > 0:\n",
    "    cluster_bboxs_dims = np.vstack(cluster_bboxs_dims)\n",
    "else: \n",
    "    cluster_bboxs_dims = np.array(cluster_bboxs_dims)\n",
    "cluster_bboxs_dims"
   ]
  },
  {
   "cell_type": "code",
   "execution_count": 165,
   "metadata": {},
   "outputs": [
    {
     "data": {
      "text/plain": [
       "array([[ 55.10217285, -18.7980957 ,   2.32410049,   2.91967773,\n",
       "         11.68310547,   3.58127594,  -1.        ],\n",
       "       [ 60.68884277, -13.02929688,   2.24179459,   6.97680664,\n",
       "          2.11230469,   3.07735443,  -1.        ],\n",
       "       [ 47.03991699,  -0.43286133,   1.10720825,   1.3112793 ,\n",
       "          1.83056641,   1.52270508,  -1.        ],\n",
       "       [ 48.02990723,  -3.85327148,   0.88595581,   2.29223633,\n",
       "          1.85888672,   1.1633606 ,  -1.        ],\n",
       "       [ 33.29882812,  -3.57543945,   0.93977737,   3.13720703,\n",
       "          1.84228516,   1.30998993,  -1.        ],\n",
       "       [ 14.62939453,  -3.53662109,   1.0088768 ,   3.90039062,\n",
       "          1.76367188,   1.49306488,  -1.        ]])"
      ]
     },
     "execution_count": 165,
     "metadata": {},
     "output_type": "execute_result"
    }
   ],
   "source": [
    "labeled_cluster_bboxs_dims = np.c_[cluster_bboxs_dims, -np.ones(cluster_bboxs_dims.shape[0])]\n",
    "labeled_cluster_bboxs_dims"
   ]
  },
  {
   "cell_type": "code",
   "execution_count": 166,
   "metadata": {},
   "outputs": [],
   "source": [
    "if not load_kitti:\n",
    "    cluster_dir = \"waymo/clusters\"\n",
    "    if not os.path.exists(cluster_dir):\n",
    "        os.makedirs(cluster_dir)\n",
    "    with open('waymo/clusters/{}.pkl'.format(frame_name), 'wb') as f:\n",
    "        pickle.dump({\"cluster_pcs\": labeled_clusters, \"cluster_bboxes\": labeled_cluster_bboxs_dims},f)"
   ]
  },
  {
   "cell_type": "code",
   "execution_count": 167,
   "metadata": {},
   "outputs": [],
   "source": [
    "if load_kitti:\n",
    "    cluster_dir = \"semantic_kitti/dataset/sequences/{:02d}/clusters\".format(seq_no)\n",
    "    if not os.path.exists(cluster_dir):\n",
    "        os.makedirs(cluster_dir)\n",
    "    with open(os.path.join(cluster_dir, '{}.pkl'.format(kitti_fname)), 'wb') as f:\n",
    "        pickle.dump({\"cluster_pcs\": labeled_clusters, \"cluster_bboxes\": labeled_cluster_bboxs_dims},f)"
   ]
  },
  {
   "cell_type": "markdown",
   "metadata": {},
   "source": [
    "## Visualize clustering"
   ]
  },
  {
   "cell_type": "code",
   "execution_count": 168,
   "metadata": {},
   "outputs": [],
   "source": [
    "sorted_clusters = clusters[clusters[:,-1].argsort()]\n",
    "np.unique(sorted_clusters[:,-1])\n",
    "cluster_list = np.split(sorted_clusters[:,:-1], np.unique(sorted_clusters[:,-1], return_index=True)[1][1:])"
   ]
  },
  {
   "cell_type": "code",
   "execution_count": 169,
   "metadata": {},
   "outputs": [],
   "source": [
    "bboxes = [o3d.geometry.AxisAlignedBoundingBox.create_from_points(o3d.utility.Vector3dVector(cluster)) for cluster in cluster_list]"
   ]
  },
  {
   "cell_type": "code",
   "execution_count": 170,
   "metadata": {},
   "outputs": [],
   "source": [
    "#Visualize sanity check\n",
    "road_z_mean = cropped_road.compute_mean_and_covariance()[0][2]\n",
    "translated_cluster_line_sets = []\n",
    "for box in bboxes:\n",
    "    bbox_z_center = box.get_center()[2]\n",
    "    translated_box = copy.deepcopy(box)\n",
    "    translated_box.translate(np.array([0, 0 , (road_z_mean - bbox_z_center)]))\n",
    "    translated_cluster_line_sets.append(o3d.geometry.LineSet().create_from_axis_aligned_bounding_box(translated_box))\n",
    "for lineset in translated_cluster_line_sets:\n",
    "    lineset.colors = o3d.utility.Vector3dVector([[0.6, 0.6,0.6] for i in range(12)])"
   ]
  },
  {
   "cell_type": "code",
   "execution_count": 171,
   "metadata": {},
   "outputs": [],
   "source": [
    "cluster_line_sets = [o3d.geometry.LineSet().create_from_axis_aligned_bounding_box(box) for box in bboxes]\n",
    "for lineset in cluster_line_sets:\n",
    "    lineset.colors = o3d.utility.Vector3dVector([[255, 0,0] for i in range(12)])"
   ]
  },
  {
   "cell_type": "code",
   "execution_count": 172,
   "metadata": {},
   "outputs": [],
   "source": [
    "pcd.paint_uniform_color([0.8,0.8,0.8])\n",
    "visuals = [pcd, cropped_road, clustered_obj]\n",
    "visuals += cluster_line_sets\n",
    "visuals += translated_cluster_line_sets\n",
    "o3d.visualization.draw_geometries(visuals, width=3072, height=1920, window_name=\"Result: Clusters on road ahead\",  \n",
    "\t\t\t front= [ -0.84376060007152665, -0.075611776213210732, 0.53136701917302009  ],\n",
    "\t\t\t lookat =  [ 4.0740218605326444, 1.3355749707693445, 3.0878925453263633 ],\n",
    "\t\t\t up =  [0.5306174540674945, 0.03135054190208468, 0.84703144036179656  ],\n",
    "\t\t\t zoom = 0.042000000000000016)"
   ]
  },
  {
   "cell_type": "code",
   "execution_count": null,
   "metadata": {},
   "outputs": [],
   "source": []
  }
 ],
 "metadata": {
  "interpreter": {
   "hash": "64d4f2d7021987c9d6d939b2e602087e441bb21ffa259bf75d793fea4acf0930"
  },
  "kernelspec": {
   "display_name": "Python 3.9.9 64-bit ('duoor': conda)",
   "language": "python",
   "name": "python3"
  },
  "language_info": {
   "codemirror_mode": {
    "name": "ipython",
    "version": 3
   },
   "file_extension": ".py",
   "mimetype": "text/x-python",
   "name": "python",
   "nbconvert_exporter": "python",
   "pygments_lexer": "ipython3",
   "version": "3.9.9"
  },
  "orig_nbformat": 4
 },
 "nbformat": 4,
 "nbformat_minor": 2
}
